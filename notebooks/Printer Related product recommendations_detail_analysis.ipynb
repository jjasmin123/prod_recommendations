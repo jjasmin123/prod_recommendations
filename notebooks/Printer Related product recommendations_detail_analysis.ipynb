{
 "cells": [
  {
   "attachments": {},
   "cell_type": "markdown",
   "id": "2fdd904c",
   "metadata": {},
   "source": [
    "### 1. Import the libraries"
   ]
  },
  {
   "cell_type": "code",
   "execution_count": 11,
   "id": "4624fd14",
   "metadata": {},
   "outputs": [],
   "source": [
    "#import the reqired libraries\n",
    "from IPython.core.interactiveshell import InteractiveShell\n",
    "InteractiveShell.ast_node_interactivity = \"all\"\n",
    "import numpy as np\n",
    "import pandas as pd\n",
    "import math\n",
    "import json\n",
    "import time\n",
    "import matplotlib.pyplot as plt\n",
    "import seaborn as sns\n",
    "from sklearn.metrics.pairwise import cosine_similarity\n",
    "from sklearn.model_selection import train_test_split\n",
    "from sklearn.neighbors import NearestNeighbors\n",
    "#from sklearn.externals import joblib\n",
    "import scipy.sparse\n",
    "from scipy.sparse import csr_matrix\n",
    "from scipy.sparse.linalg import svds\n",
    "import json\n",
    "import pandas as pd\n",
    "import os\n",
    "\n",
    "\n",
    "import warnings; warnings.simplefilter('ignore')\n",
    "%matplotlib inline"
   ]
  },
  {
   "attachments": {},
   "cell_type": "markdown",
   "id": "7babb3fe",
   "metadata": {},
   "source": [
    "# 1. Upload the customers_info and do the analysis"
   ]
  },
  {
   "cell_type": "code",
   "execution_count": 13,
   "id": "efa4451c",
   "metadata": {},
   "outputs": [
    {
     "ename": "FileNotFoundError",
     "evalue": "[Errno 2] No such file or directory: '\\\\customers_info.csv'",
     "output_type": "error",
     "traceback": [
      "\u001b[1;31m---------------------------------------------------------------------------\u001b[0m",
      "\u001b[1;31mFileNotFoundError\u001b[0m                         Traceback (most recent call last)",
      "Cell \u001b[1;32mIn[13], line 1\u001b[0m\n\u001b[1;32m----> 1\u001b[0m customers_info \u001b[39m=\u001b[39m pd\u001b[39m.\u001b[39;49mread_csv(\u001b[39mr\u001b[39;49m\u001b[39m'\u001b[39;49m\u001b[39m\\\u001b[39;49m\u001b[39mcustomers_info.csv\u001b[39;49m\u001b[39m'\u001b[39;49m, encoding\u001b[39m=\u001b[39;49m\u001b[39m'\u001b[39;49m\u001b[39mlatin1\u001b[39;49m\u001b[39m'\u001b[39;49m)\n\u001b[0;32m      2\u001b[0m \u001b[39mprint\u001b[39m(customers_info\u001b[39m.\u001b[39mshape)\n\u001b[0;32m      3\u001b[0m customers_info\u001b[39m.\u001b[39mhead()\n",
      "File \u001b[1;32mc:\\Users\\jjasm\\anaconda3\\envs\\bmc_new\\lib\\site-packages\\pandas\\io\\parsers\\readers.py:912\u001b[0m, in \u001b[0;36mread_csv\u001b[1;34m(filepath_or_buffer, sep, delimiter, header, names, index_col, usecols, dtype, engine, converters, true_values, false_values, skipinitialspace, skiprows, skipfooter, nrows, na_values, keep_default_na, na_filter, verbose, skip_blank_lines, parse_dates, infer_datetime_format, keep_date_col, date_parser, date_format, dayfirst, cache_dates, iterator, chunksize, compression, thousands, decimal, lineterminator, quotechar, quoting, doublequote, escapechar, comment, encoding, encoding_errors, dialect, on_bad_lines, delim_whitespace, low_memory, memory_map, float_precision, storage_options, dtype_backend)\u001b[0m\n\u001b[0;32m    899\u001b[0m kwds_defaults \u001b[39m=\u001b[39m _refine_defaults_read(\n\u001b[0;32m    900\u001b[0m     dialect,\n\u001b[0;32m    901\u001b[0m     delimiter,\n\u001b[1;32m   (...)\u001b[0m\n\u001b[0;32m    908\u001b[0m     dtype_backend\u001b[39m=\u001b[39mdtype_backend,\n\u001b[0;32m    909\u001b[0m )\n\u001b[0;32m    910\u001b[0m kwds\u001b[39m.\u001b[39mupdate(kwds_defaults)\n\u001b[1;32m--> 912\u001b[0m \u001b[39mreturn\u001b[39;00m _read(filepath_or_buffer, kwds)\n",
      "File \u001b[1;32mc:\\Users\\jjasm\\anaconda3\\envs\\bmc_new\\lib\\site-packages\\pandas\\io\\parsers\\readers.py:577\u001b[0m, in \u001b[0;36m_read\u001b[1;34m(filepath_or_buffer, kwds)\u001b[0m\n\u001b[0;32m    574\u001b[0m _validate_names(kwds\u001b[39m.\u001b[39mget(\u001b[39m\"\u001b[39m\u001b[39mnames\u001b[39m\u001b[39m\"\u001b[39m, \u001b[39mNone\u001b[39;00m))\n\u001b[0;32m    576\u001b[0m \u001b[39m# Create the parser.\u001b[39;00m\n\u001b[1;32m--> 577\u001b[0m parser \u001b[39m=\u001b[39m TextFileReader(filepath_or_buffer, \u001b[39m*\u001b[39m\u001b[39m*\u001b[39mkwds)\n\u001b[0;32m    579\u001b[0m \u001b[39mif\u001b[39;00m chunksize \u001b[39mor\u001b[39;00m iterator:\n\u001b[0;32m    580\u001b[0m     \u001b[39mreturn\u001b[39;00m parser\n",
      "File \u001b[1;32mc:\\Users\\jjasm\\anaconda3\\envs\\bmc_new\\lib\\site-packages\\pandas\\io\\parsers\\readers.py:1407\u001b[0m, in \u001b[0;36mTextFileReader.__init__\u001b[1;34m(self, f, engine, **kwds)\u001b[0m\n\u001b[0;32m   1404\u001b[0m     \u001b[39mself\u001b[39m\u001b[39m.\u001b[39moptions[\u001b[39m\"\u001b[39m\u001b[39mhas_index_names\u001b[39m\u001b[39m\"\u001b[39m] \u001b[39m=\u001b[39m kwds[\u001b[39m\"\u001b[39m\u001b[39mhas_index_names\u001b[39m\u001b[39m\"\u001b[39m]\n\u001b[0;32m   1406\u001b[0m \u001b[39mself\u001b[39m\u001b[39m.\u001b[39mhandles: IOHandles \u001b[39m|\u001b[39m \u001b[39mNone\u001b[39;00m \u001b[39m=\u001b[39m \u001b[39mNone\u001b[39;00m\n\u001b[1;32m-> 1407\u001b[0m \u001b[39mself\u001b[39m\u001b[39m.\u001b[39m_engine \u001b[39m=\u001b[39m \u001b[39mself\u001b[39;49m\u001b[39m.\u001b[39;49m_make_engine(f, \u001b[39mself\u001b[39;49m\u001b[39m.\u001b[39;49mengine)\n",
      "File \u001b[1;32mc:\\Users\\jjasm\\anaconda3\\envs\\bmc_new\\lib\\site-packages\\pandas\\io\\parsers\\readers.py:1661\u001b[0m, in \u001b[0;36mTextFileReader._make_engine\u001b[1;34m(self, f, engine)\u001b[0m\n\u001b[0;32m   1659\u001b[0m     \u001b[39mif\u001b[39;00m \u001b[39m\"\u001b[39m\u001b[39mb\u001b[39m\u001b[39m\"\u001b[39m \u001b[39mnot\u001b[39;00m \u001b[39min\u001b[39;00m mode:\n\u001b[0;32m   1660\u001b[0m         mode \u001b[39m+\u001b[39m\u001b[39m=\u001b[39m \u001b[39m\"\u001b[39m\u001b[39mb\u001b[39m\u001b[39m\"\u001b[39m\n\u001b[1;32m-> 1661\u001b[0m \u001b[39mself\u001b[39m\u001b[39m.\u001b[39mhandles \u001b[39m=\u001b[39m get_handle(\n\u001b[0;32m   1662\u001b[0m     f,\n\u001b[0;32m   1663\u001b[0m     mode,\n\u001b[0;32m   1664\u001b[0m     encoding\u001b[39m=\u001b[39;49m\u001b[39mself\u001b[39;49m\u001b[39m.\u001b[39;49moptions\u001b[39m.\u001b[39;49mget(\u001b[39m\"\u001b[39;49m\u001b[39mencoding\u001b[39;49m\u001b[39m\"\u001b[39;49m, \u001b[39mNone\u001b[39;49;00m),\n\u001b[0;32m   1665\u001b[0m     compression\u001b[39m=\u001b[39;49m\u001b[39mself\u001b[39;49m\u001b[39m.\u001b[39;49moptions\u001b[39m.\u001b[39;49mget(\u001b[39m\"\u001b[39;49m\u001b[39mcompression\u001b[39;49m\u001b[39m\"\u001b[39;49m, \u001b[39mNone\u001b[39;49;00m),\n\u001b[0;32m   1666\u001b[0m     memory_map\u001b[39m=\u001b[39;49m\u001b[39mself\u001b[39;49m\u001b[39m.\u001b[39;49moptions\u001b[39m.\u001b[39;49mget(\u001b[39m\"\u001b[39;49m\u001b[39mmemory_map\u001b[39;49m\u001b[39m\"\u001b[39;49m, \u001b[39mFalse\u001b[39;49;00m),\n\u001b[0;32m   1667\u001b[0m     is_text\u001b[39m=\u001b[39;49mis_text,\n\u001b[0;32m   1668\u001b[0m     errors\u001b[39m=\u001b[39;49m\u001b[39mself\u001b[39;49m\u001b[39m.\u001b[39;49moptions\u001b[39m.\u001b[39;49mget(\u001b[39m\"\u001b[39;49m\u001b[39mencoding_errors\u001b[39;49m\u001b[39m\"\u001b[39;49m, \u001b[39m\"\u001b[39;49m\u001b[39mstrict\u001b[39;49m\u001b[39m\"\u001b[39;49m),\n\u001b[0;32m   1669\u001b[0m     storage_options\u001b[39m=\u001b[39;49m\u001b[39mself\u001b[39;49m\u001b[39m.\u001b[39;49moptions\u001b[39m.\u001b[39;49mget(\u001b[39m\"\u001b[39;49m\u001b[39mstorage_options\u001b[39;49m\u001b[39m\"\u001b[39;49m, \u001b[39mNone\u001b[39;49;00m),\n\u001b[0;32m   1670\u001b[0m )\n\u001b[0;32m   1671\u001b[0m \u001b[39massert\u001b[39;00m \u001b[39mself\u001b[39m\u001b[39m.\u001b[39mhandles \u001b[39mis\u001b[39;00m \u001b[39mnot\u001b[39;00m \u001b[39mNone\u001b[39;00m\n\u001b[0;32m   1672\u001b[0m f \u001b[39m=\u001b[39m \u001b[39mself\u001b[39m\u001b[39m.\u001b[39mhandles\u001b[39m.\u001b[39mhandle\n",
      "File \u001b[1;32mc:\\Users\\jjasm\\anaconda3\\envs\\bmc_new\\lib\\site-packages\\pandas\\io\\common.py:859\u001b[0m, in \u001b[0;36mget_handle\u001b[1;34m(path_or_buf, mode, encoding, compression, memory_map, is_text, errors, storage_options)\u001b[0m\n\u001b[0;32m    854\u001b[0m \u001b[39melif\u001b[39;00m \u001b[39misinstance\u001b[39m(handle, \u001b[39mstr\u001b[39m):\n\u001b[0;32m    855\u001b[0m     \u001b[39m# Check whether the filename is to be opened in binary mode.\u001b[39;00m\n\u001b[0;32m    856\u001b[0m     \u001b[39m# Binary mode does not support 'encoding' and 'newline'.\u001b[39;00m\n\u001b[0;32m    857\u001b[0m     \u001b[39mif\u001b[39;00m ioargs\u001b[39m.\u001b[39mencoding \u001b[39mand\u001b[39;00m \u001b[39m\"\u001b[39m\u001b[39mb\u001b[39m\u001b[39m\"\u001b[39m \u001b[39mnot\u001b[39;00m \u001b[39min\u001b[39;00m ioargs\u001b[39m.\u001b[39mmode:\n\u001b[0;32m    858\u001b[0m         \u001b[39m# Encoding\u001b[39;00m\n\u001b[1;32m--> 859\u001b[0m         handle \u001b[39m=\u001b[39m \u001b[39mopen\u001b[39;49m(\n\u001b[0;32m    860\u001b[0m             handle,\n\u001b[0;32m    861\u001b[0m             ioargs\u001b[39m.\u001b[39;49mmode,\n\u001b[0;32m    862\u001b[0m             encoding\u001b[39m=\u001b[39;49mioargs\u001b[39m.\u001b[39;49mencoding,\n\u001b[0;32m    863\u001b[0m             errors\u001b[39m=\u001b[39;49merrors,\n\u001b[0;32m    864\u001b[0m             newline\u001b[39m=\u001b[39;49m\u001b[39m\"\u001b[39;49m\u001b[39m\"\u001b[39;49m,\n\u001b[0;32m    865\u001b[0m         )\n\u001b[0;32m    866\u001b[0m     \u001b[39melse\u001b[39;00m:\n\u001b[0;32m    867\u001b[0m         \u001b[39m# Binary mode\u001b[39;00m\n\u001b[0;32m    868\u001b[0m         handle \u001b[39m=\u001b[39m \u001b[39mopen\u001b[39m(handle, ioargs\u001b[39m.\u001b[39mmode)\n",
      "\u001b[1;31mFileNotFoundError\u001b[0m: [Errno 2] No such file or directory: '\\\\customers_info.csv'"
     ]
    }
   ],
   "source": [
    "customers_info = pd.read_csv('customers_info.csv', encoding='latin1')\n",
    "print(customers_info.shape)\n",
    "customers_info.head()"
   ]
  },
  {
   "attachments": {},
   "cell_type": "markdown",
   "id": "905cc382",
   "metadata": {},
   "source": [
    "### Customer Segmentation:\n",
    "\n",
    "#### Analyze the distribution of customer segments using a pie chart or bar chart."
   ]
  },
  {
   "cell_type": "code",
   "execution_count": 115,
   "id": "17183840",
   "metadata": {},
   "outputs": [
    {
     "data": {
      "text/plain": [
       "<AxesSubplot:ylabel='Segment'>"
      ]
     },
     "execution_count": 115,
     "metadata": {},
     "output_type": "execute_result"
    },
    {
     "data": {
      "text/plain": [
       "Text(0.5, 1.0, 'Customer Segmentation')"
      ]
     },
     "execution_count": 115,
     "metadata": {},
     "output_type": "execute_result"
    },
    {
     "data": {
      "text/plain": [
       "Text(0, 0.5, '')"
      ]
     },
     "execution_count": 115,
     "metadata": {},
     "output_type": "execute_result"
    },
    {
     "data": {
      "image/png": "[encoded data removed]",
      "text/plain": [
       "<Figure size 432x288 with 1 Axes>"
      ]
     },
     "metadata": {},
     "output_type": "display_data"
    }
   ],
   "source": [
    "segment_counts = customers_info['Segment'].value_counts()\n",
    "segment_counts.plot(kind='pie', autopct='%1.1f%%')\n",
    "plt.title('Customer Segmentation')\n",
    "plt.ylabel('')\n",
    "plt.show()\n"
   ]
  },
  {
   "attachments": {},
   "cell_type": "markdown",
   "id": "b7d865a7",
   "metadata": {},
   "source": [
    "### Geographic Analysis:\n",
    "\n",
    "#### Explore the distribution of customers across different countries, cities, states, and regions."
   ]
  },
  {
   "cell_type": "code",
   "execution_count": 116,
   "id": "4694a7a8",
   "metadata": {},
   "outputs": [
    {
     "data": {
      "text/plain": [
       "<AxesSubplot:>"
      ]
     },
     "execution_count": 116,
     "metadata": {},
     "output_type": "execute_result"
    },
    {
     "data": {
      "text/plain": [
       "Text(0.5, 0, 'Country')"
      ]
     },
     "execution_count": 116,
     "metadata": {},
     "output_type": "execute_result"
    },
    {
     "data": {
      "text/plain": [
       "Text(0, 0.5, 'Count')"
      ]
     },
     "execution_count": 116,
     "metadata": {},
     "output_type": "execute_result"
    },
    {
     "data": {
      "text/plain": [
       "Text(0.5, 1.0, 'Top 10 Countries by Customer Count')"
      ]
     },
     "execution_count": 116,
     "metadata": {},
     "output_type": "execute_result"
    },
    {
     "data": {
      "image/png": "[encoded data removed]",
      "text/plain": [
       "<Figure size 432x288 with 1 Axes>"
      ]
     },
     "metadata": {
      "needs_background": "light"
     },
     "output_type": "display_data"
    }
   ],
   "source": [
    "country_counts = customers_info['Country'].value_counts().head(10)\n",
    "country_counts.plot(kind='bar')\n",
    "plt.xlabel('Country')\n",
    "plt.ylabel('Count')\n",
    "plt.title('Top 10 Countries by Customer Count')\n",
    "plt.show()\n"
   ]
  },
  {
   "attachments": {},
   "cell_type": "markdown",
   "id": "8394f782",
   "metadata": {},
   "source": [
    "### State and Region Analysis:\n",
    "\n",
    "#### Analyze the distribution of customers across different states and regions."
   ]
  },
  {
   "cell_type": "code",
   "execution_count": 117,
   "id": "408ea6b5",
   "metadata": {},
   "outputs": [
    {
     "data": {
      "text/plain": [
       "<AxesSubplot:>"
      ]
     },
     "execution_count": 117,
     "metadata": {},
     "output_type": "execute_result"
    },
    {
     "data": {
      "text/plain": [
       "Text(0.5, 0, 'State')"
      ]
     },
     "execution_count": 117,
     "metadata": {},
     "output_type": "execute_result"
    },
    {
     "data": {
      "text/plain": [
       "Text(0, 0.5, 'Count')"
      ]
     },
     "execution_count": 117,
     "metadata": {},
     "output_type": "execute_result"
    },
    {
     "data": {
      "text/plain": [
       "Text(0.5, 1.0, 'Customer Count by State')"
      ]
     },
     "execution_count": 117,
     "metadata": {},
     "output_type": "execute_result"
    },
    {
     "data": {
      "image/png": "[encoded data removed]",
      "text/plain": [
       "<Figure size 864x432 with 1 Axes>"
      ]
     },
     "metadata": {
      "needs_background": "light"
     },
     "output_type": "display_data"
    }
   ],
   "source": [
    "state_counts = customers_info['State'].value_counts()\n",
    "state_counts.plot(kind='bar', figsize=(12, 6))\n",
    "plt.xlabel('State')\n",
    "plt.ylabel('Count')\n",
    "plt.title('Customer Count by State')\n",
    "plt.show()\n"
   ]
  },
  {
   "attachments": {},
   "cell_type": "markdown",
   "id": "96e2f4de",
   "metadata": {},
   "source": [
    "### Postal Code Analysis:\n",
    "\n",
    "#### Examine the customer distribution based on postal codes."
   ]
  },
  {
   "cell_type": "code",
   "execution_count": 118,
   "id": "30c67543",
   "metadata": {},
   "outputs": [
    {
     "data": {
      "text/plain": [
       "<Figure size 720x432 with 0 Axes>"
      ]
     },
     "execution_count": 118,
     "metadata": {},
     "output_type": "execute_result"
    },
    {
     "data": {
      "text/plain": [
       "(array([105.,  83., 475.,  65.,  34., 325., 155.,  15., 189., 238.,  53.,\n",
       "        126., 157., 147., 156.,  51.,  63.,  15., 275.,  30.,  31.,  51.,\n",
       "        188., 309.,  93., 142.,  43., 592., 399., 305.]),\n",
       " array([ 1040.        ,  4315.36666667,  7590.73333333, 10866.1       ,\n",
       "        14141.46666667, 17416.83333333, 20692.2       , 23967.56666667,\n",
       "        27242.93333333, 30518.3       , 33793.66666667, 37069.03333333,\n",
       "        40344.4       , 43619.76666667, 46895.13333333, 50170.5       ,\n",
       "        53445.86666667, 56721.23333333, 59996.6       , 63271.96666667,\n",
       "        66547.33333333, 69822.7       , 73098.06666667, 76373.43333333,\n",
       "        79648.8       , 82924.16666667, 86199.53333333, 89474.9       ,\n",
       "        92750.26666667, 96025.63333333, 99301.        ]),\n",
       " <BarContainer object of 30 artists>)"
      ]
     },
     "execution_count": 118,
     "metadata": {},
     "output_type": "execute_result"
    },
    {
     "data": {
      "text/plain": [
       "Text(0.5, 0, 'Postal Code')"
      ]
     },
     "execution_count": 118,
     "metadata": {},
     "output_type": "execute_result"
    },
    {
     "data": {
      "text/plain": [
       "Text(0, 0.5, 'Frequency')"
      ]
     },
     "execution_count": 118,
     "metadata": {},
     "output_type": "execute_result"
    },
    {
     "data": {
      "text/plain": [
       "Text(0.5, 1.0, 'Distribution of Postal Codes')"
      ]
     },
     "execution_count": 118,
     "metadata": {},
     "output_type": "execute_result"
    },
    {
     "data": {
      "image/png": "[encoded data removed]",
      "text/plain": [
       "<Figure size 720x432 with 1 Axes>"
      ]
     },
     "metadata": {
      "needs_background": "light"
     },
     "output_type": "display_data"
    }
   ],
   "source": [
    "plt.figure(figsize=(10, 6))\n",
    "plt.hist(customers_info['Postal Code'], bins=30)\n",
    "plt.xlabel('Postal Code')\n",
    "plt.ylabel('Frequency')\n",
    "plt.title('Distribution of Postal Codes')\n",
    "plt.show()\n"
   ]
  },
  {
   "attachments": {},
   "cell_type": "markdown",
   "id": "e610742f",
   "metadata": {},
   "source": [
    "### Additional Analysis:\n",
    "\n",
    "#### Perform further analysis based on the available columns, such as analyzing customer names or examining relationships between columns (e.g., customer count by segment in each country or region)."
   ]
  },
  {
   "cell_type": "code",
   "execution_count": 119,
   "id": "6744d59c",
   "metadata": {},
   "outputs": [
    {
     "data": {
      "text/plain": [
       "<AxesSubplot:xlabel='Country'>"
      ]
     },
     "execution_count": 119,
     "metadata": {},
     "output_type": "execute_result"
    },
    {
     "data": {
      "text/plain": [
       "Text(0.5, 0, 'Country')"
      ]
     },
     "execution_count": 119,
     "metadata": {},
     "output_type": "execute_result"
    },
    {
     "data": {
      "text/plain": [
       "Text(0, 0.5, 'Count')"
      ]
     },
     "execution_count": 119,
     "metadata": {},
     "output_type": "execute_result"
    },
    {
     "data": {
      "text/plain": [
       "Text(0.5, 1.0, 'Customer Count by Segment in Each Country')"
      ]
     },
     "execution_count": 119,
     "metadata": {},
     "output_type": "execute_result"
    },
    {
     "data": {
      "image/png": "[encoded data removed]",
      "text/plain": [
       "<Figure size 864x432 with 1 Axes>"
      ]
     },
     "metadata": {
      "needs_background": "light"
     },
     "output_type": "display_data"
    }
   ],
   "source": [
    "country_segment_counts = customers_info.groupby(['Country', 'Segment']).size().unstack().fillna(0)\n",
    "country_segment_counts.plot(kind='bar', stacked=True, figsize=(12, 6))\n",
    "plt.xlabel('Country')\n",
    "plt.ylabel('Count')\n",
    "plt.title('Customer Count by Segment in Each Country')\n",
    "plt.show()\n"
   ]
  },
  {
   "attachments": {},
   "cell_type": "markdown",
   "id": "206f5662",
   "metadata": {},
   "source": [
    "#  2. Upload the customer_transaction_info and do the analysis"
   ]
  },
  {
   "cell_type": "code",
   "execution_count": 121,
   "id": "e8e2b5e2",
   "metadata": {},
   "outputs": [
    {
     "name": "stdout",
     "output_type": "stream",
     "text": [
      "(9994, 10)\n"
     ]
    },
    {
     "data": {
      "text/html": [
       "<div>\n",
       "<style scoped>\n",
       "    .dataframe tbody tr th:only-of-type {\n",
       "        vertical-align: middle;\n",
       "    }\n",
       "\n",
       "    .dataframe tbody tr th {\n",
       "        vertical-align: top;\n",
       "    }\n",
       "\n",
       "    .dataframe thead th {\n",
       "        text-align: right;\n",
       "    }\n",
       "</style>\n",
       "<table border=\"1\" class=\"dataframe\">\n",
       "  <thead>\n",
       "    <tr style=\"text-align: right;\">\n",
       "      <th></th>\n",
       "      <th>Order ID</th>\n",
       "      <th>Order Date</th>\n",
       "      <th>Ship Date</th>\n",
       "      <th>Ship Mode</th>\n",
       "      <th>Customer ID</th>\n",
       "      <th>Product ID</th>\n",
       "      <th>Sales</th>\n",
       "      <th>Quantity</th>\n",
       "      <th>Discount</th>\n",
       "      <th>Profit</th>\n",
       "    </tr>\n",
       "  </thead>\n",
       "  <tbody>\n",
       "    <tr>\n",
       "      <th>0</th>\n",
       "      <td>CA-2016-152156</td>\n",
       "      <td>1.478560e+12</td>\n",
       "      <td>1.478820e+12</td>\n",
       "      <td>Second Class</td>\n",
       "      <td>CG-12520</td>\n",
       "      <td>FUR-BO-10001798</td>\n",
       "      <td>261.9600</td>\n",
       "      <td>2</td>\n",
       "      <td>0.00</td>\n",
       "      <td>41.9136</td>\n",
       "    </tr>\n",
       "    <tr>\n",
       "      <th>1</th>\n",
       "      <td>CA-2016-152156</td>\n",
       "      <td>1.478560e+12</td>\n",
       "      <td>1.478820e+12</td>\n",
       "      <td>Second Class</td>\n",
       "      <td>CG-12520</td>\n",
       "      <td>FUR-CH-10000454</td>\n",
       "      <td>731.9400</td>\n",
       "      <td>3</td>\n",
       "      <td>0.00</td>\n",
       "      <td>219.5820</td>\n",
       "    </tr>\n",
       "    <tr>\n",
       "      <th>2</th>\n",
       "      <td>CA-2016-138688</td>\n",
       "      <td>1.465690e+12</td>\n",
       "      <td>1.466040e+12</td>\n",
       "      <td>Second Class</td>\n",
       "      <td>DV-13045</td>\n",
       "      <td>OFF-LA-10000240</td>\n",
       "      <td>14.6200</td>\n",
       "      <td>2</td>\n",
       "      <td>0.00</td>\n",
       "      <td>6.8714</td>\n",
       "    </tr>\n",
       "    <tr>\n",
       "      <th>3</th>\n",
       "      <td>US-2015-108966</td>\n",
       "      <td>1.444520e+12</td>\n",
       "      <td>1.445130e+12</td>\n",
       "      <td>Standard Class</td>\n",
       "      <td>SO-20335</td>\n",
       "      <td>FUR-TA-10000577</td>\n",
       "      <td>957.5775</td>\n",
       "      <td>5</td>\n",
       "      <td>0.45</td>\n",
       "      <td>-383.0310</td>\n",
       "    </tr>\n",
       "    <tr>\n",
       "      <th>4</th>\n",
       "      <td>US-2015-108966</td>\n",
       "      <td>1.444520e+12</td>\n",
       "      <td>1.445130e+12</td>\n",
       "      <td>Standard Class</td>\n",
       "      <td>SO-20335</td>\n",
       "      <td>OFF-ST-10000760</td>\n",
       "      <td>22.3680</td>\n",
       "      <td>2</td>\n",
       "      <td>0.20</td>\n",
       "      <td>2.5164</td>\n",
       "    </tr>\n",
       "  </tbody>\n",
       "</table>\n",
       "</div>"
      ],
      "text/plain": [
       "         Order ID    Order Date     Ship Date       Ship Mode Customer ID  \\\n",
       "0  CA-2016-152156  1.478560e+12  1.478820e+12    Second Class    CG-12520   \n",
       "1  CA-2016-152156  1.478560e+12  1.478820e+12    Second Class    CG-12520   \n",
       "2  CA-2016-138688  1.465690e+12  1.466040e+12    Second Class    DV-13045   \n",
       "3  US-2015-108966  1.444520e+12  1.445130e+12  Standard Class    SO-20335   \n",
       "4  US-2015-108966  1.444520e+12  1.445130e+12  Standard Class    SO-20335   \n",
       "\n",
       "        Product ID     Sales  Quantity  Discount    Profit  \n",
       "0  FUR-BO-10001798  261.9600         2      0.00   41.9136  \n",
       "1  FUR-CH-10000454  731.9400         3      0.00  219.5820  \n",
       "2  OFF-LA-10000240   14.6200         2      0.00    6.8714  \n",
       "3  FUR-TA-10000577  957.5775         5      0.45 -383.0310  \n",
       "4  OFF-ST-10000760   22.3680         2      0.20    2.5164  "
      ]
     },
     "execution_count": 121,
     "metadata": {},
     "output_type": "execute_result"
    }
   ],
   "source": [
    "customer_transaction_info = pd.read_csv(r'C:\\Users\\jjasm\\OneDrive\\BMC-TakeHome-Data Scientist\\data-csv\\customer_transaction_info.csv', encoding='latin1')\n",
    "print(customer_transaction_info.shape)\n",
    "customer_transaction_info.head()"
   ]
  },
  {
   "attachments": {},
   "cell_type": "markdown",
   "id": "8f0d731e",
   "metadata": {},
   "source": [
    "### Analysis of customer_transaction_info"
   ]
  },
  {
   "cell_type": "code",
   "execution_count": 123,
   "id": "0197a9e6",
   "metadata": {},
   "outputs": [
    {
     "data": {
      "text/plain": [
       "<Figure size 720x432 with 0 Axes>"
      ]
     },
     "execution_count": 123,
     "metadata": {},
     "output_type": "execute_result"
    },
    {
     "data": {
      "text/plain": [
       "<AxesSubplot:>"
      ]
     },
     "execution_count": 123,
     "metadata": {},
     "output_type": "execute_result"
    },
    {
     "data": {
      "text/plain": [
       "Text(0.5, 1.0, 'Count of Orders by Order ID')"
      ]
     },
     "execution_count": 123,
     "metadata": {},
     "output_type": "execute_result"
    },
    {
     "data": {
      "text/plain": [
       "Text(0.5, 0, 'Order ID')"
      ]
     },
     "execution_count": 123,
     "metadata": {},
     "output_type": "execute_result"
    },
    {
     "data": {
      "text/plain": [
       "Text(0, 0.5, 'Count')"
      ]
     },
     "execution_count": 123,
     "metadata": {},
     "output_type": "execute_result"
    },
    {
     "data": {
      "image/png": "[encoded data removed]",
      "text/plain": [
       "<Figure size 720x432 with 1 Axes>"
      ]
     },
     "metadata": {
      "needs_background": "light"
     },
     "output_type": "display_data"
    },
    {
     "data": {
      "text/plain": [
       "<Figure size 720x432 with 0 Axes>"
      ]
     },
     "execution_count": 123,
     "metadata": {},
     "output_type": "execute_result"
    },
    {
     "data": {
      "text/plain": [
       "<AxesSubplot:>"
      ]
     },
     "execution_count": 123,
     "metadata": {},
     "output_type": "execute_result"
    },
    {
     "data": {
      "text/plain": [
       "Text(0.5, 1.0, 'Count of Orders by Ship Mode')"
      ]
     },
     "execution_count": 123,
     "metadata": {},
     "output_type": "execute_result"
    },
    {
     "data": {
      "text/plain": [
       "Text(0.5, 0, 'Ship Mode')"
      ]
     },
     "execution_count": 123,
     "metadata": {},
     "output_type": "execute_result"
    },
    {
     "data": {
      "text/plain": [
       "Text(0, 0.5, 'Count')"
      ]
     },
     "execution_count": 123,
     "metadata": {},
     "output_type": "execute_result"
    },
    {
     "data": {
      "image/png": "[encoded data removed]",
      "text/plain": [
       "<Figure size 720x432 with 1 Axes>"
      ]
     },
     "metadata": {
      "needs_background": "light"
     },
     "output_type": "display_data"
    },
    {
     "data": {
      "text/plain": [
       "<Figure size 720x432 with 0 Axes>"
      ]
     },
     "execution_count": 123,
     "metadata": {},
     "output_type": "execute_result"
    },
    {
     "data": {
      "text/plain": [
       "<AxesSubplot:>"
      ]
     },
     "execution_count": 123,
     "metadata": {},
     "output_type": "execute_result"
    },
    {
     "data": {
      "text/plain": [
       "Text(0.5, 1.0, 'Count of Orders by Customer ID')"
      ]
     },
     "execution_count": 123,
     "metadata": {},
     "output_type": "execute_result"
    },
    {
     "data": {
      "text/plain": [
       "Text(0.5, 0, 'Customer ID')"
      ]
     },
     "execution_count": 123,
     "metadata": {},
     "output_type": "execute_result"
    },
    {
     "data": {
      "text/plain": [
       "Text(0, 0.5, 'Count')"
      ]
     },
     "execution_count": 123,
     "metadata": {},
     "output_type": "execute_result"
    },
    {
     "data": {
      "image/png": "[encoded data removed]",
      "text/plain": [
       "<Figure size 720x432 with 1 Axes>"
      ]
     },
     "metadata": {
      "needs_background": "light"
     },
     "output_type": "display_data"
    },
    {
     "data": {
      "text/plain": [
       "<Figure size 720x432 with 0 Axes>"
      ]
     },
     "execution_count": 123,
     "metadata": {},
     "output_type": "execute_result"
    },
    {
     "data": {
      "text/plain": [
       "<AxesSubplot:>"
      ]
     },
     "execution_count": 123,
     "metadata": {},
     "output_type": "execute_result"
    },
    {
     "data": {
      "text/plain": [
       "Text(0.5, 1.0, 'Count of Orders by Product ID')"
      ]
     },
     "execution_count": 123,
     "metadata": {},
     "output_type": "execute_result"
    },
    {
     "data": {
      "text/plain": [
       "Text(0.5, 0, 'Product ID')"
      ]
     },
     "execution_count": 123,
     "metadata": {},
     "output_type": "execute_result"
    },
    {
     "data": {
      "text/plain": [
       "Text(0, 0.5, 'Count')"
      ]
     },
     "execution_count": 123,
     "metadata": {},
     "output_type": "execute_result"
    },
    {
     "data": {
      "image/png": "[encoded data removed]",
      "text/plain": [
       "<Figure size 720x432 with 1 Axes>"
      ]
     },
     "metadata": {
      "needs_background": "light"
     },
     "output_type": "display_data"
    }
   ],
   "source": [
    "import pandas as pd\n",
    "import matplotlib.pyplot as plt\n",
    "\n",
    "# Assuming your dataframe is named \"customer_transaction_info\"\n",
    "\n",
    "# Calculate the count of unique Order IDs\n",
    "order_id_counts = customer_transaction_info['Order ID'].value_counts()\n",
    "\n",
    "# Plot the bar chart for Order IDs\n",
    "plt.figure(figsize=(10, 6))\n",
    "order_id_counts.plot(kind='bar')\n",
    "plt.title('Count of Orders by Order ID')\n",
    "plt.xlabel('Order ID')\n",
    "plt.ylabel('Count')\n",
    "plt.show()\n",
    "\n",
    "# Calculate the count of unique Ship Modes\n",
    "ship_mode_counts = customer_transaction_info['Ship Mode'].value_counts()\n",
    "\n",
    "# Plot the bar chart for Ship Modes\n",
    "plt.figure(figsize=(10, 6))\n",
    "ship_mode_counts.plot(kind='bar')\n",
    "plt.title('Count of Orders by Ship Mode')\n",
    "plt.xlabel('Ship Mode')\n",
    "plt.ylabel('Count')\n",
    "plt.show()\n",
    "\n",
    "# Calculate the count of unique Customer IDs\n",
    "customer_id_counts = customer_transaction_info['Customer ID'].value_counts()\n",
    "\n",
    "# Plot the bar chart for Customer IDs\n",
    "plt.figure(figsize=(10, 6))\n",
    "customer_id_counts.plot(kind='bar')\n",
    "plt.title('Count of Orders by Customer ID')\n",
    "plt.xlabel('Customer ID')\n",
    "plt.ylabel('Count')\n",
    "plt.show()\n",
    "\n",
    "# Calculate the count of unique Product IDs\n",
    "product_id_counts = customer_transaction_info['Product ID'].value_counts()\n",
    "\n",
    "# Plot the bar chart for Product IDs\n",
    "plt.figure(figsize=(10, 6))\n",
    "product_id_counts.plot(kind='bar')\n",
    "plt.title('Count of Orders by Product ID')\n",
    "plt.xlabel('Product ID')\n",
    "plt.ylabel('Count')\n",
    "plt.show()\n"
   ]
  },
  {
   "cell_type": "code",
   "execution_count": null,
   "id": "ea1efedd",
   "metadata": {},
   "outputs": [],
   "source": [
    "### Do some line by line analysis"
   ]
  },
  {
   "cell_type": "code",
   "execution_count": 124,
   "id": "ae6888ec",
   "metadata": {},
   "outputs": [
    {
     "data": {
      "text/plain": [
       "5009"
      ]
     },
     "execution_count": 124,
     "metadata": {},
     "output_type": "execute_result"
    }
   ],
   "source": [
    "# Check the uniqueness of Order IDs: \n",
    "customer_transaction_info['Order ID'].nunique()"
   ]
  },
  {
   "cell_type": "code",
   "execution_count": 125,
   "id": "f1d4d2d6",
   "metadata": {},
   "outputs": [
    {
     "data": {
      "text/plain": [
       "9994"
      ]
     },
     "execution_count": 125,
     "metadata": {},
     "output_type": "execute_result"
    }
   ],
   "source": [
    "#Get the count of orders: \n",
    "customer_transaction_info['Order ID'].count()"
   ]
  },
  {
   "cell_type": "code",
   "execution_count": 126,
   "id": "191d3b6a",
   "metadata": {},
   "outputs": [
    {
     "data": {
      "text/plain": [
       "CA-2017-100111    14\n",
       "CA-2017-157987    12\n",
       "CA-2016-165330    11\n",
       "US-2016-108504    11\n",
       "CA-2015-131338    10\n",
       "                  ..\n",
       "CA-2016-157259     1\n",
       "CA-2017-107986     1\n",
       "US-2015-112508     1\n",
       "US-2016-126844     1\n",
       "CA-2017-119914     1\n",
       "Name: Order ID, Length: 5009, dtype: int64"
      ]
     },
     "execution_count": 126,
     "metadata": {},
     "output_type": "execute_result"
    }
   ],
   "source": [
    "#Explore the distribution of order IDs: \n",
    "    \n",
    "customer_transaction_info['Order ID'].value_counts()"
   ]
  },
  {
   "cell_type": "code",
   "execution_count": 127,
   "id": "7282b9c7",
   "metadata": {},
   "outputs": [],
   "source": [
    "## Order Date and Ship Date:\n",
    "\n",
    "##Convert the columns to datetime format:\n",
    "customer_transaction_info['Order Date'] = pd.to_datetime(customer_transaction_info['Order Date'])\n",
    "customer_transaction_info['Ship Date'] = pd.to_datetime(customer_transaction_info['Ship Date'])\n"
   ]
  },
  {
   "cell_type": "code",
   "execution_count": 129,
   "id": "a35daa44",
   "metadata": {},
   "outputs": [
    {
     "data": {
      "text/plain": [
       "0      0 days 00:00:00.260000\n",
       "1      0 days 00:00:00.260000\n",
       "2      0 days 00:00:00.350000\n",
       "3      0 days 00:00:00.610000\n",
       "4      0 days 00:00:00.610000\n",
       "                ...          \n",
       "9989   0 days 00:00:00.180000\n",
       "9990   0 days 00:00:00.430000\n",
       "9991   0 days 00:00:00.430000\n",
       "9992   0 days 00:00:00.430000\n",
       "9993   0 days 00:00:00.430000\n",
       "Name: Shipping Time, Length: 9994, dtype: timedelta64[ns]"
      ]
     },
     "execution_count": 129,
     "metadata": {},
     "output_type": "execute_result"
    }
   ],
   "source": [
    "##Calculate the time taken for shipping: \n",
    "customer_transaction_info['Shipping Time'] = customer_transaction_info['Ship Date'] - customer_transaction_info['Order Date']\n",
    "customer_transaction_info['Shipping Time']\n"
   ]
  },
  {
   "cell_type": "code",
   "execution_count": 130,
   "id": "5048020b",
   "metadata": {},
   "outputs": [
    {
     "data": {
      "text/plain": [
       "count                         9994\n",
       "mean     0 days 00:00:00.342055233\n",
       "std      0 days 00:00:00.150964604\n",
       "min                0 days 00:00:00\n",
       "25%         0 days 00:00:00.260000\n",
       "50%         0 days 00:00:00.350000\n",
       "75%         0 days 00:00:00.430000\n",
       "max         0 days 00:00:00.610000\n",
       "Name: Shipping Time, dtype: object"
      ]
     },
     "execution_count": 130,
     "metadata": {},
     "output_type": "execute_result"
    }
   ],
   "source": [
    "## Analyze the statistics of shipping time: \n",
    "customer_transaction_info['Shipping Time'].describe()"
   ]
  },
  {
   "cell_type": "code",
   "execution_count": 131,
   "id": "1b1d3eec",
   "metadata": {},
   "outputs": [
    {
     "data": {
      "text/plain": [
       "array(['Second Class', 'Standard Class', 'First Class', 'Same Day'],\n",
       "      dtype=object)"
      ]
     },
     "execution_count": 131,
     "metadata": {},
     "output_type": "execute_result"
    }
   ],
   "source": [
    "# Check the different ship modes: \n",
    "customer_transaction_info['Ship Mode'].unique()"
   ]
  },
  {
   "cell_type": "code",
   "execution_count": 132,
   "id": "22928f09",
   "metadata": {},
   "outputs": [
    {
     "data": {
      "text/plain": [
       "Standard Class    5968\n",
       "Second Class      1945\n",
       "First Class       1538\n",
       "Same Day           543\n",
       "Name: Ship Mode, dtype: int64"
      ]
     },
     "execution_count": 132,
     "metadata": {},
     "output_type": "execute_result"
    }
   ],
   "source": [
    "#Count the occurrences of each ship mode: \n",
    "customer_transaction_info['Ship Mode'].value_counts()"
   ]
  },
  {
   "cell_type": "code",
   "execution_count": 133,
   "id": "259dde9f",
   "metadata": {},
   "outputs": [
    {
     "data": {
      "text/plain": [
       "<AxesSubplot:>"
      ]
     },
     "execution_count": 133,
     "metadata": {},
     "output_type": "execute_result"
    },
    {
     "data": {
      "image/png": "[encoded data removed]",
      "text/plain": [
       "<Figure size 432x288 with 1 Axes>"
      ]
     },
     "metadata": {
      "needs_background": "light"
     },
     "output_type": "display_data"
    }
   ],
   "source": [
    "#Visualize the distribution of ship modes using a bar plot: \n",
    "customer_transaction_info['Ship Mode'].value_counts().plot(kind='bar')"
   ]
  },
  {
   "cell_type": "code",
   "execution_count": 134,
   "id": "99dcbe20",
   "metadata": {},
   "outputs": [
    {
     "data": {
      "text/plain": [
       "(793, 1862)"
      ]
     },
     "execution_count": 134,
     "metadata": {},
     "output_type": "execute_result"
    }
   ],
   "source": [
    "#Check the uniqueness of customer and product IDs: \n",
    "customer_transaction_info['Customer ID'].nunique(), customer_transaction_info['Product ID'].nunique()"
   ]
  },
  {
   "cell_type": "code",
   "execution_count": 135,
   "id": "544c9728",
   "metadata": {},
   "outputs": [
    {
     "data": {
      "text/plain": [
       "(WB-21850    37\n",
       " JL-15835    34\n",
       " MA-17560    34\n",
       " PP-18955    34\n",
       " CK-12205    32\n",
       "             ..\n",
       " LD-16855     1\n",
       " AO-10810     1\n",
       " CJ-11875     1\n",
       " RE-19405     1\n",
       " JR-15700     1\n",
       " Name: Customer ID, Length: 793, dtype: int64,\n",
       " OFF-PA-10001970    19\n",
       " TEC-AC-10003832    18\n",
       " FUR-FU-10004270    16\n",
       " FUR-CH-10001146    15\n",
       " TEC-AC-10003628    15\n",
       "                    ..\n",
       " TEC-PH-10003535     1\n",
       " TEC-MA-10002937     1\n",
       " OFF-AR-10004974     1\n",
       " TEC-AC-10004814     1\n",
       " OFF-ST-10001627     1\n",
       " Name: Product ID, Length: 1862, dtype: int64)"
      ]
     },
     "execution_count": 135,
     "metadata": {},
     "output_type": "execute_result"
    }
   ],
   "source": [
    "#Count the occurrences of each customer and product: \n",
    "customer_transaction_info['Customer ID'].value_counts(), customer_transaction_info['Product ID'].value_counts()"
   ]
  },
  {
   "cell_type": "code",
   "execution_count": 136,
   "id": "6e2f46ff",
   "metadata": {},
   "outputs": [
    {
     "data": {
      "text/html": [
       "<div>\n",
       "<style scoped>\n",
       "    .dataframe tbody tr th:only-of-type {\n",
       "        vertical-align: middle;\n",
       "    }\n",
       "\n",
       "    .dataframe tbody tr th {\n",
       "        vertical-align: top;\n",
       "    }\n",
       "\n",
       "    .dataframe thead th {\n",
       "        text-align: right;\n",
       "    }\n",
       "</style>\n",
       "<table border=\"1\" class=\"dataframe\">\n",
       "  <thead>\n",
       "    <tr style=\"text-align: right;\">\n",
       "      <th></th>\n",
       "      <th>Sales</th>\n",
       "      <th>Quantity</th>\n",
       "      <th>Discount</th>\n",
       "      <th>Profit</th>\n",
       "    </tr>\n",
       "  </thead>\n",
       "  <tbody>\n",
       "    <tr>\n",
       "      <th>count</th>\n",
       "      <td>9994.000000</td>\n",
       "      <td>9994.000000</td>\n",
       "      <td>9994.000000</td>\n",
       "      <td>9994.000000</td>\n",
       "    </tr>\n",
       "    <tr>\n",
       "      <th>mean</th>\n",
       "      <td>229.858001</td>\n",
       "      <td>3.789574</td>\n",
       "      <td>0.156203</td>\n",
       "      <td>28.656896</td>\n",
       "    </tr>\n",
       "    <tr>\n",
       "      <th>std</th>\n",
       "      <td>623.245101</td>\n",
       "      <td>2.225110</td>\n",
       "      <td>0.206452</td>\n",
       "      <td>234.260108</td>\n",
       "    </tr>\n",
       "    <tr>\n",
       "      <th>min</th>\n",
       "      <td>0.444000</td>\n",
       "      <td>1.000000</td>\n",
       "      <td>0.000000</td>\n",
       "      <td>-6599.978000</td>\n",
       "    </tr>\n",
       "    <tr>\n",
       "      <th>25%</th>\n",
       "      <td>17.280000</td>\n",
       "      <td>2.000000</td>\n",
       "      <td>0.000000</td>\n",
       "      <td>1.728750</td>\n",
       "    </tr>\n",
       "    <tr>\n",
       "      <th>50%</th>\n",
       "      <td>54.490000</td>\n",
       "      <td>3.000000</td>\n",
       "      <td>0.200000</td>\n",
       "      <td>8.666500</td>\n",
       "    </tr>\n",
       "    <tr>\n",
       "      <th>75%</th>\n",
       "      <td>209.940000</td>\n",
       "      <td>5.000000</td>\n",
       "      <td>0.200000</td>\n",
       "      <td>29.364000</td>\n",
       "    </tr>\n",
       "    <tr>\n",
       "      <th>max</th>\n",
       "      <td>22638.480000</td>\n",
       "      <td>14.000000</td>\n",
       "      <td>0.800000</td>\n",
       "      <td>8399.976000</td>\n",
       "    </tr>\n",
       "  </tbody>\n",
       "</table>\n",
       "</div>"
      ],
      "text/plain": [
       "              Sales     Quantity     Discount       Profit\n",
       "count   9994.000000  9994.000000  9994.000000  9994.000000\n",
       "mean     229.858001     3.789574     0.156203    28.656896\n",
       "std      623.245101     2.225110     0.206452   234.260108\n",
       "min        0.444000     1.000000     0.000000 -6599.978000\n",
       "25%       17.280000     2.000000     0.000000     1.728750\n",
       "50%       54.490000     3.000000     0.200000     8.666500\n",
       "75%      209.940000     5.000000     0.200000    29.364000\n",
       "max    22638.480000    14.000000     0.800000  8399.976000"
      ]
     },
     "execution_count": 136,
     "metadata": {},
     "output_type": "execute_result"
    }
   ],
   "source": [
    "#Analyze the descriptive statistics of these numerical columns: \n",
    "customer_transaction_info[['Sales', 'Quantity', 'Discount', 'Profit']].describe()"
   ]
  },
  {
   "cell_type": "code",
   "execution_count": 138,
   "id": "e90a3cc7",
   "metadata": {},
   "outputs": [
    {
     "data": {
      "text/html": [
       "<div>\n",
       "<style scoped>\n",
       "    .dataframe tbody tr th:only-of-type {\n",
       "        vertical-align: middle;\n",
       "    }\n",
       "\n",
       "    .dataframe tbody tr th {\n",
       "        vertical-align: top;\n",
       "    }\n",
       "\n",
       "    .dataframe thead th {\n",
       "        text-align: right;\n",
       "    }\n",
       "</style>\n",
       "<table border=\"1\" class=\"dataframe\">\n",
       "  <thead>\n",
       "    <tr style=\"text-align: right;\">\n",
       "      <th></th>\n",
       "      <th>Sales</th>\n",
       "      <th>Quantity</th>\n",
       "      <th>Discount</th>\n",
       "      <th>Profit</th>\n",
       "    </tr>\n",
       "  </thead>\n",
       "  <tbody>\n",
       "    <tr>\n",
       "      <th>count</th>\n",
       "      <td>9994.000000</td>\n",
       "      <td>9994.000000</td>\n",
       "      <td>9994.000000</td>\n",
       "      <td>9994.000000</td>\n",
       "    </tr>\n",
       "    <tr>\n",
       "      <th>mean</th>\n",
       "      <td>229.858001</td>\n",
       "      <td>3.789574</td>\n",
       "      <td>0.156203</td>\n",
       "      <td>28.656896</td>\n",
       "    </tr>\n",
       "    <tr>\n",
       "      <th>std</th>\n",
       "      <td>623.245101</td>\n",
       "      <td>2.225110</td>\n",
       "      <td>0.206452</td>\n",
       "      <td>234.260108</td>\n",
       "    </tr>\n",
       "    <tr>\n",
       "      <th>min</th>\n",
       "      <td>0.444000</td>\n",
       "      <td>1.000000</td>\n",
       "      <td>0.000000</td>\n",
       "      <td>-6599.978000</td>\n",
       "    </tr>\n",
       "    <tr>\n",
       "      <th>25%</th>\n",
       "      <td>17.280000</td>\n",
       "      <td>2.000000</td>\n",
       "      <td>0.000000</td>\n",
       "      <td>1.728750</td>\n",
       "    </tr>\n",
       "    <tr>\n",
       "      <th>50%</th>\n",
       "      <td>54.490000</td>\n",
       "      <td>3.000000</td>\n",
       "      <td>0.200000</td>\n",
       "      <td>8.666500</td>\n",
       "    </tr>\n",
       "    <tr>\n",
       "      <th>75%</th>\n",
       "      <td>209.940000</td>\n",
       "      <td>5.000000</td>\n",
       "      <td>0.200000</td>\n",
       "      <td>29.364000</td>\n",
       "    </tr>\n",
       "    <tr>\n",
       "      <th>max</th>\n",
       "      <td>22638.480000</td>\n",
       "      <td>14.000000</td>\n",
       "      <td>0.800000</td>\n",
       "      <td>8399.976000</td>\n",
       "    </tr>\n",
       "  </tbody>\n",
       "</table>\n",
       "</div>"
      ],
      "text/plain": [
       "              Sales     Quantity     Discount       Profit\n",
       "count   9994.000000  9994.000000  9994.000000  9994.000000\n",
       "mean     229.858001     3.789574     0.156203    28.656896\n",
       "std      623.245101     2.225110     0.206452   234.260108\n",
       "min        0.444000     1.000000     0.000000 -6599.978000\n",
       "25%       17.280000     2.000000     0.000000     1.728750\n",
       "50%       54.490000     3.000000     0.200000     8.666500\n",
       "75%      209.940000     5.000000     0.200000    29.364000\n",
       "max    22638.480000    14.000000     0.800000  8399.976000"
      ]
     },
     "execution_count": 138,
     "metadata": {},
     "output_type": "execute_result"
    }
   ],
   "source": [
    "#Analyze the descriptive statistics of these numerical columns: \n",
    "customer_transaction_info[['Sales', 'Quantity', 'Discount', 'Profit']].describe()"
   ]
  },
  {
   "cell_type": "code",
   "execution_count": 139,
   "id": "0d22fa4d",
   "metadata": {},
   "outputs": [
    {
     "data": {
      "text/plain": [
       "<AxesSubplot:ylabel='Frequency'>"
      ]
     },
     "execution_count": 139,
     "metadata": {},
     "output_type": "execute_result"
    },
    {
     "data": {
      "image/png": "[encoded data removed]",
      "text/plain": [
       "<Figure size 432x288 with 1 Axes>"
      ]
     },
     "metadata": {
      "needs_background": "light"
     },
     "output_type": "display_data"
    }
   ],
   "source": [
    "#Visualize the distributions using histograms or box plots: \n",
    "customer_transaction_info[['Sales', 'Quantity', 'Discount', 'Profit']].plot(kind='hist') or customer_transaction_info[['Sales', 'Quantity', 'Discount', 'Profit']].plot(kind='box')"
   ]
  },
  {
   "attachments": {},
   "cell_type": "markdown",
   "id": "0bc1b803",
   "metadata": {},
   "source": [
    "# 3. Upload the data - orders_returned_info\n",
    "#### 1. Here we want to only build the predictive models whether a customer will buy printer related product.\n",
    "#### 2. Below table shows the data that customers bought the product and then returned it. Customer's buying product information is \n",
    "#### already in the customers_info and product_info. So let's not use below table. \n",
    "### 3. But still we can do some analysis."
   ]
  },
  {
   "cell_type": "code",
   "execution_count": 143,
   "id": "359258da",
   "metadata": {},
   "outputs": [
    {
     "name": "stdout",
     "output_type": "stream",
     "text": [
      "(1, 592)\n"
     ]
    },
    {
     "data": {
      "text/html": [
       "<div>\n",
       "<style scoped>\n",
       "    .dataframe tbody tr th:only-of-type {\n",
       "        vertical-align: middle;\n",
       "    }\n",
       "\n",
       "    .dataframe tbody tr th {\n",
       "        vertical-align: top;\n",
       "    }\n",
       "\n",
       "    .dataframe thead th {\n",
       "        text-align: right;\n",
       "    }\n",
       "</style>\n",
       "<table border=\"1\" class=\"dataframe\">\n",
       "  <thead>\n",
       "    <tr style=\"text-align: right;\">\n",
       "      <th></th>\n",
       "      <th>Returned</th>\n",
       "      <th>Order ID</th>\n",
       "      <th>Returned.1</th>\n",
       "      <th>Order ID.1</th>\n",
       "      <th>Returned.2</th>\n",
       "      <th>Order ID.2</th>\n",
       "      <th>Returned.3</th>\n",
       "      <th>Order ID.3</th>\n",
       "      <th>Returned.4</th>\n",
       "      <th>Order ID.4</th>\n",
       "      <th>...</th>\n",
       "      <th>Returned.291</th>\n",
       "      <th>Order ID.291</th>\n",
       "      <th>Returned.292</th>\n",
       "      <th>Order ID.292</th>\n",
       "      <th>Returned.293</th>\n",
       "      <th>Order ID.293</th>\n",
       "      <th>Returned.294</th>\n",
       "      <th>Order ID.294</th>\n",
       "      <th>Returned.295</th>\n",
       "      <th>Order ID.295</th>\n",
       "    </tr>\n",
       "  </thead>\n",
       "  <tbody>\n",
       "    <tr>\n",
       "      <th>0</th>\n",
       "      <td>Yes</td>\n",
       "      <td>CA-2017-153822</td>\n",
       "      <td>Yes</td>\n",
       "      <td>CA-2017-129707</td>\n",
       "      <td>Yes</td>\n",
       "      <td>CA-2014-152345</td>\n",
       "      <td>Yes</td>\n",
       "      <td>CA-2015-156440</td>\n",
       "      <td>Yes</td>\n",
       "      <td>US-2017-155999</td>\n",
       "      <td>...</td>\n",
       "      <td>Yes</td>\n",
       "      <td>CA-2015-101910</td>\n",
       "      <td>Yes</td>\n",
       "      <td>CA-2017-156958</td>\n",
       "      <td>Yes</td>\n",
       "      <td>CA-2016-105585</td>\n",
       "      <td>Yes</td>\n",
       "      <td>CA-2016-148796</td>\n",
       "      <td>Yes</td>\n",
       "      <td>CA-2015-149636</td>\n",
       "    </tr>\n",
       "  </tbody>\n",
       "</table>\n",
       "<p>1 rows × 592 columns</p>\n",
       "</div>"
      ],
      "text/plain": [
       "  Returned        Order ID Returned.1      Order ID.1 Returned.2  \\\n",
       "0      Yes  CA-2017-153822        Yes  CA-2017-129707        Yes   \n",
       "\n",
       "       Order ID.2 Returned.3      Order ID.3 Returned.4      Order ID.4  ...  \\\n",
       "0  CA-2014-152345        Yes  CA-2015-156440        Yes  US-2017-155999  ...   \n",
       "\n",
       "  Returned.291    Order ID.291 Returned.292    Order ID.292 Returned.293  \\\n",
       "0          Yes  CA-2015-101910          Yes  CA-2017-156958          Yes   \n",
       "\n",
       "     Order ID.293 Returned.294    Order ID.294 Returned.295    Order ID.295  \n",
       "0  CA-2016-105585          Yes  CA-2016-148796          Yes  CA-2015-149636  \n",
       "\n",
       "[1 rows x 592 columns]"
      ]
     },
     "execution_count": 143,
     "metadata": {},
     "output_type": "execute_result"
    }
   ],
   "source": [
    "orders_returned_info = pd.read_csv(r'C:\\Users\\jjasm\\OneDrive\\BMC-TakeHome-Data Scientist\\data-csv\\orders_returned_info.csv', encoding='latin1')\n",
    "print(orders_returned_info.shape)\n",
    "orders_returned_info.head()"
   ]
  },
  {
   "attachments": {},
   "cell_type": "markdown",
   "id": "3fd5d8f9",
   "metadata": {},
   "source": [
    "# 4. Upload product_info and analysis"
   ]
  },
  {
   "cell_type": "code",
   "execution_count": 148,
   "id": "0317d357",
   "metadata": {},
   "outputs": [
    {
     "name": "stdout",
     "output_type": "stream",
     "text": [
      "(1894, 4)\n"
     ]
    },
    {
     "data": {
      "text/html": [
       "<div>\n",
       "<style scoped>\n",
       "    .dataframe tbody tr th:only-of-type {\n",
       "        vertical-align: middle;\n",
       "    }\n",
       "\n",
       "    .dataframe tbody tr th {\n",
       "        vertical-align: top;\n",
       "    }\n",
       "\n",
       "    .dataframe thead th {\n",
       "        text-align: right;\n",
       "    }\n",
       "</style>\n",
       "<table border=\"1\" class=\"dataframe\">\n",
       "  <thead>\n",
       "    <tr style=\"text-align: right;\">\n",
       "      <th></th>\n",
       "      <th>Product ID</th>\n",
       "      <th>Category</th>\n",
       "      <th>Sub-Category</th>\n",
       "      <th>Product Name</th>\n",
       "    </tr>\n",
       "  </thead>\n",
       "  <tbody>\n",
       "    <tr>\n",
       "      <th>0</th>\n",
       "      <td>FUR-BO-10001798</td>\n",
       "      <td>Furniture</td>\n",
       "      <td>Bookcases</td>\n",
       "      <td>Bush Somerset Collection Bookcase</td>\n",
       "    </tr>\n",
       "    <tr>\n",
       "      <th>1</th>\n",
       "      <td>FUR-CH-10000454</td>\n",
       "      <td>Furniture</td>\n",
       "      <td>Chairs</td>\n",
       "      <td>Hon Deluxe Fabric Upholstered Stacking Chairs,...</td>\n",
       "    </tr>\n",
       "    <tr>\n",
       "      <th>2</th>\n",
       "      <td>OFF-LA-10000240</td>\n",
       "      <td>Office Supplies</td>\n",
       "      <td>Labels</td>\n",
       "      <td>Self-Adhesive Address Labels for Typewriters b...</td>\n",
       "    </tr>\n",
       "    <tr>\n",
       "      <th>3</th>\n",
       "      <td>FUR-TA-10000577</td>\n",
       "      <td>Furniture</td>\n",
       "      <td>Tables</td>\n",
       "      <td>Bretford CR4500 Series Slim Rectangular Table</td>\n",
       "    </tr>\n",
       "    <tr>\n",
       "      <th>4</th>\n",
       "      <td>OFF-ST-10000760</td>\n",
       "      <td>Office Supplies</td>\n",
       "      <td>Storage</td>\n",
       "      <td>Eldon Fold 'N Roll Cart System</td>\n",
       "    </tr>\n",
       "  </tbody>\n",
       "</table>\n",
       "</div>"
      ],
      "text/plain": [
       "        Product ID         Category Sub-Category  \\\n",
       "0  FUR-BO-10001798        Furniture    Bookcases   \n",
       "1  FUR-CH-10000454        Furniture       Chairs   \n",
       "2  OFF-LA-10000240  Office Supplies       Labels   \n",
       "3  FUR-TA-10000577        Furniture       Tables   \n",
       "4  OFF-ST-10000760  Office Supplies      Storage   \n",
       "\n",
       "                                        Product Name  \n",
       "0                  Bush Somerset Collection Bookcase  \n",
       "1  Hon Deluxe Fabric Upholstered Stacking Chairs,...  \n",
       "2  Self-Adhesive Address Labels for Typewriters b...  \n",
       "3      Bretford CR4500 Series Slim Rectangular Table  \n",
       "4                     Eldon Fold 'N Roll Cart System  "
      ]
     },
     "execution_count": 148,
     "metadata": {},
     "output_type": "execute_result"
    }
   ],
   "source": [
    "product_info = pd.read_csv(r'C:\\Users\\jjasm\\OneDrive\\BMC-TakeHome-Data Scientist\\data-csv\\product_info.csv', encoding='latin1')\n",
    "print(product_info.shape)\n",
    "product_info.head()"
   ]
  },
  {
   "cell_type": "code",
   "execution_count": 149,
   "id": "df8f85e0",
   "metadata": {},
   "outputs": [
    {
     "data": {
      "text/plain": [
       "<Figure size 720x432 with 0 Axes>"
      ]
     },
     "execution_count": 149,
     "metadata": {},
     "output_type": "execute_result"
    },
    {
     "data": {
      "text/plain": [
       "<AxesSubplot:>"
      ]
     },
     "execution_count": 149,
     "metadata": {},
     "output_type": "execute_result"
    },
    {
     "data": {
      "text/plain": [
       "Text(0.5, 1.0, 'Count of Products by Product ID')"
      ]
     },
     "execution_count": 149,
     "metadata": {},
     "output_type": "execute_result"
    },
    {
     "data": {
      "text/plain": [
       "Text(0.5, 0, 'Product ID')"
      ]
     },
     "execution_count": 149,
     "metadata": {},
     "output_type": "execute_result"
    },
    {
     "data": {
      "text/plain": [
       "Text(0, 0.5, 'Count')"
      ]
     },
     "execution_count": 149,
     "metadata": {},
     "output_type": "execute_result"
    },
    {
     "data": {
      "image/png": "[encoded data removed]",
      "text/plain": [
       "<Figure size 720x432 with 1 Axes>"
      ]
     },
     "metadata": {
      "needs_background": "light"
     },
     "output_type": "display_data"
    },
    {
     "data": {
      "text/plain": [
       "<Figure size 720x432 with 0 Axes>"
      ]
     },
     "execution_count": 149,
     "metadata": {},
     "output_type": "execute_result"
    },
    {
     "data": {
      "text/plain": [
       "<AxesSubplot:>"
      ]
     },
     "execution_count": 149,
     "metadata": {},
     "output_type": "execute_result"
    },
    {
     "data": {
      "text/plain": [
       "Text(0.5, 1.0, 'Count of Products by Category')"
      ]
     },
     "execution_count": 149,
     "metadata": {},
     "output_type": "execute_result"
    },
    {
     "data": {
      "text/plain": [
       "Text(0.5, 0, 'Category')"
      ]
     },
     "execution_count": 149,
     "metadata": {},
     "output_type": "execute_result"
    },
    {
     "data": {
      "text/plain": [
       "Text(0, 0.5, 'Count')"
      ]
     },
     "execution_count": 149,
     "metadata": {},
     "output_type": "execute_result"
    },
    {
     "data": {
      "image/png": "[encoded data removed]",
      "text/plain": [
       "<Figure size 720x432 with 1 Axes>"
      ]
     },
     "metadata": {
      "needs_background": "light"
     },
     "output_type": "display_data"
    },
    {
     "data": {
      "text/plain": [
       "<Figure size 720x432 with 0 Axes>"
      ]
     },
     "execution_count": 149,
     "metadata": {},
     "output_type": "execute_result"
    },
    {
     "data": {
      "text/plain": [
       "<AxesSubplot:>"
      ]
     },
     "execution_count": 149,
     "metadata": {},
     "output_type": "execute_result"
    },
    {
     "data": {
      "text/plain": [
       "Text(0.5, 1.0, 'Count of Products by Sub-Category')"
      ]
     },
     "execution_count": 149,
     "metadata": {},
     "output_type": "execute_result"
    },
    {
     "data": {
      "text/plain": [
       "Text(0.5, 0, 'Sub-Category')"
      ]
     },
     "execution_count": 149,
     "metadata": {},
     "output_type": "execute_result"
    },
    {
     "data": {
      "text/plain": [
       "Text(0, 0.5, 'Count')"
      ]
     },
     "execution_count": 149,
     "metadata": {},
     "output_type": "execute_result"
    },
    {
     "data": {
      "image/png": "[encoded data removed]",
      "text/plain": [
       "<Figure size 720x432 with 1 Axes>"
      ]
     },
     "metadata": {
      "needs_background": "light"
     },
     "output_type": "display_data"
    },
    {
     "data": {
      "text/plain": [
       "<Figure size 720x432 with 0 Axes>"
      ]
     },
     "execution_count": 149,
     "metadata": {},
     "output_type": "execute_result"
    },
    {
     "data": {
      "text/plain": [
       "<AxesSubplot:>"
      ]
     },
     "execution_count": 149,
     "metadata": {},
     "output_type": "execute_result"
    },
    {
     "data": {
      "text/plain": [
       "Text(0.5, 1.0, 'Count of Products by Product Name')"
      ]
     },
     "execution_count": 149,
     "metadata": {},
     "output_type": "execute_result"
    },
    {
     "data": {
      "text/plain": [
       "Text(0.5, 0, 'Product Name')"
      ]
     },
     "execution_count": 149,
     "metadata": {},
     "output_type": "execute_result"
    },
    {
     "data": {
      "text/plain": [
       "Text(0, 0.5, 'Count')"
      ]
     },
     "execution_count": 149,
     "metadata": {},
     "output_type": "execute_result"
    },
    {
     "data": {
      "image/png": "[encoded data removed]",
      "text/plain": [
       "<Figure size 720x432 with 1 Axes>"
      ]
     },
     "metadata": {
      "needs_background": "light"
     },
     "output_type": "display_data"
    }
   ],
   "source": [
    "import pandas as pd\n",
    "import matplotlib.pyplot as plt\n",
    "\n",
    "# Assuming your dataframe is named \"product_info\"\n",
    "\n",
    "# Calculate the count of unique Product IDs\n",
    "product_id_counts = product_info['Product ID'].value_counts()\n",
    "\n",
    "# Plot the bar chart for Product IDs\n",
    "plt.figure(figsize=(10, 6))\n",
    "product_id_counts.plot(kind='bar')\n",
    "plt.title('Count of Products by Product ID')\n",
    "plt.xlabel('Product ID')\n",
    "plt.ylabel('Count')\n",
    "plt.show()\n",
    "\n",
    "# Calculate the count of unique Categories\n",
    "category_counts = product_info['Category'].value_counts()\n",
    "\n",
    "# Plot the bar chart for Categories\n",
    "plt.figure(figsize=(10, 6))\n",
    "category_counts.plot(kind='bar')\n",
    "plt.title('Count of Products by Category')\n",
    "plt.xlabel('Category')\n",
    "plt.ylabel('Count')\n",
    "plt.show()\n",
    "\n",
    "# Calculate the count of unique Sub-Categories\n",
    "sub_category_counts = product_info['Sub-Category'].value_counts()\n",
    "\n",
    "# Plot the bar chart for Sub-Categories\n",
    "plt.figure(figsize=(10, 6))\n",
    "sub_category_counts.plot(kind='bar')\n",
    "plt.title('Count of Products by Sub-Category')\n",
    "plt.xlabel('Sub-Category')\n",
    "plt.ylabel('Count')\n",
    "plt.show()\n",
    "\n",
    "# Calculate the count of unique Product Names\n",
    "product_name_counts = product_info['Product Name'].value_counts()\n",
    "\n",
    "# Plot the bar chart for Product Names\n",
    "plt.figure(figsize=(10, 6))\n",
    "product_name_counts.plot(kind='bar')\n",
    "plt.title('Count of Products by Product Name')\n",
    "plt.xlabel('Product Name')\n",
    "plt.ylabel('Count')\n",
    "plt.show()\n"
   ]
  },
  {
   "attachments": {},
   "cell_type": "markdown",
   "id": "f76262b8",
   "metadata": {},
   "source": [
    "# 5. Upload region_seller_info"
   ]
  },
  {
   "cell_type": "code",
   "execution_count": 150,
   "id": "d9eadb37",
   "metadata": {},
   "outputs": [
    {
     "name": "stdout",
     "output_type": "stream",
     "text": [
      "(3, 4)\n"
     ]
    },
    {
     "data": {
      "text/html": [
       "<div>\n",
       "<style scoped>\n",
       "    .dataframe tbody tr th:only-of-type {\n",
       "        vertical-align: middle;\n",
       "    }\n",
       "\n",
       "    .dataframe tbody tr th {\n",
       "        vertical-align: top;\n",
       "    }\n",
       "\n",
       "    .dataframe thead th {\n",
       "        text-align: right;\n",
       "    }\n",
       "</style>\n",
       "<table border=\"1\" class=\"dataframe\">\n",
       "  <thead>\n",
       "    <tr style=\"text-align: right;\">\n",
       "      <th></th>\n",
       "      <th>Anna Andreadi</th>\n",
       "      <th>West</th>\n",
       "      <th>Femail</th>\n",
       "      <th>45</th>\n",
       "    </tr>\n",
       "  </thead>\n",
       "  <tbody>\n",
       "    <tr>\n",
       "      <th>0</th>\n",
       "      <td>Chuck Magee</td>\n",
       "      <td>East</td>\n",
       "      <td>G</td>\n",
       "      <td>43</td>\n",
       "    </tr>\n",
       "    <tr>\n",
       "      <th>1</th>\n",
       "      <td>Kelly Williams</td>\n",
       "      <td>Central</td>\n",
       "      <td>NaN</td>\n",
       "      <td>35</td>\n",
       "    </tr>\n",
       "    <tr>\n",
       "      <th>2</th>\n",
       "      <td>Cassandra Brandow</td>\n",
       "      <td>South</td>\n",
       "      <td>F</td>\n",
       "      <td>9849</td>\n",
       "    </tr>\n",
       "  </tbody>\n",
       "</table>\n",
       "</div>"
      ],
      "text/plain": [
       "       Anna Andreadi     West Femail    45\n",
       "0        Chuck Magee     East      G    43\n",
       "1     Kelly Williams  Central    NaN    35\n",
       "2  Cassandra Brandow    South      F  9849"
      ]
     },
     "execution_count": 150,
     "metadata": {},
     "output_type": "execute_result"
    }
   ],
   "source": [
    "region_seller_info = pd.read_csv(r'C:\\Users\\jjasm\\OneDrive\\BMC-TakeHome-Data Scientist\\data-csv\\region_seller_info.csv', encoding='latin1')\n",
    "print(region_seller_info.shape)\n",
    "region_seller_info.head()"
   ]
  },
  {
   "attachments": {},
   "cell_type": "markdown",
   "id": "3e502a13",
   "metadata": {},
   "source": [
    "### filter the dataframe - product_info  if the Product Name \n",
    "field contains the word “printer\" and the product sub-category is 'Machines.' ( As per instructions provided in pdf)\n",
    "#### Do the analysis "
   ]
  },
  {
   "cell_type": "code",
   "execution_count": 151,
   "id": "605990c0",
   "metadata": {},
   "outputs": [
    {
     "name": "stdout",
     "output_type": "stream",
     "text": [
      "(38, 4)\n"
     ]
    },
    {
     "data": {
      "text/html": [
       "<div>\n",
       "<style scoped>\n",
       "    .dataframe tbody tr th:only-of-type {\n",
       "        vertical-align: middle;\n",
       "    }\n",
       "\n",
       "    .dataframe tbody tr th {\n",
       "        vertical-align: top;\n",
       "    }\n",
       "\n",
       "    .dataframe thead th {\n",
       "        text-align: right;\n",
       "    }\n",
       "</style>\n",
       "<table border=\"1\" class=\"dataframe\">\n",
       "  <thead>\n",
       "    <tr style=\"text-align: right;\">\n",
       "      <th></th>\n",
       "      <th>Product ID</th>\n",
       "      <th>Category</th>\n",
       "      <th>Sub-Category</th>\n",
       "      <th>Product Name</th>\n",
       "    </tr>\n",
       "  </thead>\n",
       "  <tbody>\n",
       "    <tr>\n",
       "      <th>156</th>\n",
       "      <td>TEC-MA-10000822</td>\n",
       "      <td>Technology</td>\n",
       "      <td>Machines</td>\n",
       "      <td>Lexmark MX611dhe Monochrome Laser Printer</td>\n",
       "    </tr>\n",
       "    <tr>\n",
       "      <th>239</th>\n",
       "      <td>TEC-MA-10003353</td>\n",
       "      <td>Technology</td>\n",
       "      <td>Machines</td>\n",
       "      <td>Xerox WorkCentre 6505DN Laser Multifunction Pr...</td>\n",
       "    </tr>\n",
       "    <tr>\n",
       "      <th>382</th>\n",
       "      <td>TEC-MA-10000029</td>\n",
       "      <td>Technology</td>\n",
       "      <td>Machines</td>\n",
       "      <td>Epson WorkForce WF-2530 All-in-One Printer, Co...</td>\n",
       "    </tr>\n",
       "    <tr>\n",
       "      <th>389</th>\n",
       "      <td>TEC-MA-10002937</td>\n",
       "      <td>Technology</td>\n",
       "      <td>Machines</td>\n",
       "      <td>Canon Color ImageCLASS MF8580Cdw Wireless Lase...</td>\n",
       "    </tr>\n",
       "    <tr>\n",
       "      <th>577</th>\n",
       "      <td>TEC-MA-10004125</td>\n",
       "      <td>Technology</td>\n",
       "      <td>Machines</td>\n",
       "      <td>Cubify CubeX 3D Printer Triple Head Print</td>\n",
       "    </tr>\n",
       "  </tbody>\n",
       "</table>\n",
       "</div>"
      ],
      "text/plain": [
       "          Product ID    Category Sub-Category  \\\n",
       "156  TEC-MA-10000822  Technology     Machines   \n",
       "239  TEC-MA-10003353  Technology     Machines   \n",
       "382  TEC-MA-10000029  Technology     Machines   \n",
       "389  TEC-MA-10002937  Technology     Machines   \n",
       "577  TEC-MA-10004125  Technology     Machines   \n",
       "\n",
       "                                          Product Name  \n",
       "156          Lexmark MX611dhe Monochrome Laser Printer  \n",
       "239  Xerox WorkCentre 6505DN Laser Multifunction Pr...  \n",
       "382  Epson WorkForce WF-2530 All-in-One Printer, Co...  \n",
       "389  Canon Color ImageCLASS MF8580Cdw Wireless Lase...  \n",
       "577          Cubify CubeX 3D Printer Triple Head Print  "
      ]
     },
     "execution_count": 151,
     "metadata": {},
     "output_type": "execute_result"
    }
   ],
   "source": [
    "import pandas as pd\n",
    "\n",
    "# Assuming your dataframe is named product_info\n",
    "product_info = product_info[(product_info['Product Name'].str.contains('printer', case=False)) & \n",
    "                           (product_info['Sub-Category'] == 'Machines')]\n",
    "\n",
    "# Displaying the filtered dataframe\n",
    "print(product_info.shape)\n",
    "product_info.head()\n"
   ]
  },
  {
   "cell_type": "code",
   "execution_count": 152,
   "id": "76bb8135",
   "metadata": {},
   "outputs": [
    {
     "data": {
      "text/plain": [
       "<Figure size 720x432 with 0 Axes>"
      ]
     },
     "execution_count": 152,
     "metadata": {},
     "output_type": "execute_result"
    },
    {
     "data": {
      "text/plain": [
       "<AxesSubplot:>"
      ]
     },
     "execution_count": 152,
     "metadata": {},
     "output_type": "execute_result"
    },
    {
     "data": {
      "text/plain": [
       "Text(0.5, 1.0, 'Count of Products by Product ID')"
      ]
     },
     "execution_count": 152,
     "metadata": {},
     "output_type": "execute_result"
    },
    {
     "data": {
      "text/plain": [
       "Text(0.5, 0, 'Product ID')"
      ]
     },
     "execution_count": 152,
     "metadata": {},
     "output_type": "execute_result"
    },
    {
     "data": {
      "text/plain": [
       "Text(0, 0.5, 'Count')"
      ]
     },
     "execution_count": 152,
     "metadata": {},
     "output_type": "execute_result"
    },
    {
     "data": {
      "image/png": "[encoded data removed]",
      "text/plain": [
       "<Figure size 720x432 with 1 Axes>"
      ]
     },
     "metadata": {
      "needs_background": "light"
     },
     "output_type": "display_data"
    },
    {
     "data": {
      "text/plain": [
       "<Figure size 720x432 with 0 Axes>"
      ]
     },
     "execution_count": 152,
     "metadata": {},
     "output_type": "execute_result"
    },
    {
     "data": {
      "text/plain": [
       "<AxesSubplot:>"
      ]
     },
     "execution_count": 152,
     "metadata": {},
     "output_type": "execute_result"
    },
    {
     "data": {
      "text/plain": [
       "Text(0.5, 1.0, 'Count of Products by Category')"
      ]
     },
     "execution_count": 152,
     "metadata": {},
     "output_type": "execute_result"
    },
    {
     "data": {
      "text/plain": [
       "Text(0.5, 0, 'Category')"
      ]
     },
     "execution_count": 152,
     "metadata": {},
     "output_type": "execute_result"
    },
    {
     "data": {
      "text/plain": [
       "Text(0, 0.5, 'Count')"
      ]
     },
     "execution_count": 152,
     "metadata": {},
     "output_type": "execute_result"
    },
    {
     "data": {
      "image/png": "[encoded data removed]",
      "text/plain": [
       "<Figure size 720x432 with 1 Axes>"
      ]
     },
     "metadata": {
      "needs_background": "light"
     },
     "output_type": "display_data"
    },
    {
     "data": {
      "text/plain": [
       "<Figure size 720x432 with 0 Axes>"
      ]
     },
     "execution_count": 152,
     "metadata": {},
     "output_type": "execute_result"
    },
    {
     "data": {
      "text/plain": [
       "<AxesSubplot:>"
      ]
     },
     "execution_count": 152,
     "metadata": {},
     "output_type": "execute_result"
    },
    {
     "data": {
      "text/plain": [
       "Text(0.5, 1.0, 'Count of Products by Sub-Category')"
      ]
     },
     "execution_count": 152,
     "metadata": {},
     "output_type": "execute_result"
    },
    {
     "data": {
      "text/plain": [
       "Text(0.5, 0, 'Sub-Category')"
      ]
     },
     "execution_count": 152,
     "metadata": {},
     "output_type": "execute_result"
    },
    {
     "data": {
      "text/plain": [
       "Text(0, 0.5, 'Count')"
      ]
     },
     "execution_count": 152,
     "metadata": {},
     "output_type": "execute_result"
    },
    {
     "data": {
      "image/png": "[encoded data removed]",
      "text/plain": [
       "<Figure size 720x432 with 1 Axes>"
      ]
     },
     "metadata": {
      "needs_background": "light"
     },
     "output_type": "display_data"
    },
    {
     "data": {
      "text/plain": [
       "<Figure size 720x432 with 0 Axes>"
      ]
     },
     "execution_count": 152,
     "metadata": {},
     "output_type": "execute_result"
    },
    {
     "data": {
      "text/plain": [
       "<AxesSubplot:>"
      ]
     },
     "execution_count": 152,
     "metadata": {},
     "output_type": "execute_result"
    },
    {
     "data": {
      "text/plain": [
       "Text(0.5, 1.0, 'Count of Products by Product Name')"
      ]
     },
     "execution_count": 152,
     "metadata": {},
     "output_type": "execute_result"
    },
    {
     "data": {
      "text/plain": [
       "Text(0.5, 0, 'Product Name')"
      ]
     },
     "execution_count": 152,
     "metadata": {},
     "output_type": "execute_result"
    },
    {
     "data": {
      "text/plain": [
       "Text(0, 0.5, 'Count')"
      ]
     },
     "execution_count": 152,
     "metadata": {},
     "output_type": "execute_result"
    },
    {
     "data": {
      "image/png": "[encoded data removed]",
      "text/plain": [
       "<Figure size 720x432 with 1 Axes>"
      ]
     },
     "metadata": {
      "needs_background": "light"
     },
     "output_type": "display_data"
    }
   ],
   "source": [
    "import pandas as pd\n",
    "import matplotlib.pyplot as plt\n",
    "\n",
    "# Assuming your dataframe is named \"product_info\"\n",
    "\n",
    "# Calculate the count of unique Product IDs\n",
    "product_id_counts = product_info['Product ID'].value_counts()\n",
    "\n",
    "# Plot the bar chart for Product IDs\n",
    "plt.figure(figsize=(10, 6))\n",
    "product_id_counts.plot(kind='bar')\n",
    "plt.title('Count of Products by Product ID')\n",
    "plt.xlabel('Product ID')\n",
    "plt.ylabel('Count')\n",
    "plt.show()\n",
    "\n",
    "# Calculate the count of unique Categories\n",
    "category_counts = product_info['Category'].value_counts()\n",
    "\n",
    "# Plot the bar chart for Categories\n",
    "plt.figure(figsize=(10, 6))\n",
    "category_counts.plot(kind='bar')\n",
    "plt.title('Count of Products by Category')\n",
    "plt.xlabel('Category')\n",
    "plt.ylabel('Count')\n",
    "plt.show()\n",
    "\n",
    "# Calculate the count of unique Sub-Categories\n",
    "sub_category_counts = product_info['Sub-Category'].value_counts()\n",
    "\n",
    "# Plot the bar chart for Sub-Categories\n",
    "plt.figure(figsize=(10, 6))\n",
    "sub_category_counts.plot(kind='bar')\n",
    "plt.title('Count of Products by Sub-Category')\n",
    "plt.xlabel('Sub-Category')\n",
    "plt.ylabel('Count')\n",
    "plt.show()\n",
    "\n",
    "# Calculate the count of unique Product Names\n",
    "product_name_counts = product_info['Product Name'].value_counts()\n",
    "\n",
    "# Plot the bar chart for Product Names\n",
    "plt.figure(figsize=(10, 6))\n",
    "product_name_counts.plot(kind='bar')\n",
    "plt.title('Count of Products by Product Name')\n",
    "plt.xlabel('Product Name')\n",
    "plt.ylabel('Count')\n",
    "plt.show()\n"
   ]
  },
  {
   "cell_type": "code",
   "execution_count": 154,
   "id": "3b0d1980",
   "metadata": {},
   "outputs": [
    {
     "data": {
      "text/plain": [
       "Product Name\n",
       "Okidata C610n Printer                                                                  2\n",
       "3D Systems Cube Printer, 2nd Generation, Magenta                                       1\n",
       "Lexmark MX611dhe Monochrome Laser Printer                                              1\n",
       "Lexmark X 9575 Professional All-in-One Color Printer                                   1\n",
       "Okidata B400 Printer                                                                   1\n",
       "Okidata B401 Printer                                                                   1\n",
       "Okidata C331dn Printer                                                                 1\n",
       "Okidata MB491 Multifunction Printer                                                    1\n",
       "Okidata MB760 Printer                                                                  1\n",
       "Panasonic KX MB2061 Multifunction Printer                                              1\n",
       "Panasonic KX MC6040 Color Laser Multifunction Printer                                  1\n",
       "Ricoh - Ink Collector Unit for GX3000 Series Printers                                  1\n",
       "Star Micronics TSP100 TSP143LAN Receipt Printer                                        1\n",
       "Star Micronics TSP800 TSP847IIU Receipt Printer                                        1\n",
       "Xerox WorkCentre 6505DN Laser Multifunction Printer                                    1\n",
       "Zebra GK420t Direct Thermal/Thermal Transfer Printer                                   1\n",
       "Zebra GX420t Direct Thermal/Thermal Transfer Printer                                   1\n",
       "Lexmark S315 Color Inkjet Printer                                                      1\n",
       "Lexmark 20R1285 X6650 Wireless All-in-One Printer                                      1\n",
       "3D Systems Cube Printer, 2nd Generation, White                                         1\n",
       "Konica Minolta magicolor 1690MF Multifunction Printer                                  1\n",
       "Bady BDG101FRU Card Printer                                                            1\n",
       "Brother MFC-9340CDW LED All-In-One Printer, Copier Scanner                             1\n",
       "Canon Color ImageCLASS MF8580Cdw Wireless Laser All-In-One Printer, Copier, Scanner    1\n",
       "Cubify CubeX 3D Printer Double Head Print                                              1\n",
       "Cubify CubeX 3D Printer Triple Head Print                                              1\n",
       "Epson TM-T88V Direct Thermal Printer - Monochrome - Desktop                            1\n",
       "Epson WorkForce WF-2530 All-in-One Printer, Copier Scanner                             1\n",
       "HP Designjet T520 Inkjet Large Format Printer - 24\" Color                              1\n",
       "HP Officejet Pro 8600 e-All-In-One Printer, Copier, Scanner, Fax                       1\n",
       "Hewlett-Packard Deskjet 3050a All-in-One Color Inkjet Printer                          1\n",
       "Hewlett-Packard Deskjet 5550 Printer                                                   1\n",
       "Hewlett-Packard Deskjet 6540 Color Inkjet Printer                                      1\n",
       "Hewlett-Packard Deskjet D4360 Printer                                                  1\n",
       "Hewlett-Packard Deskjet F4180 All-in-One Color Ink-jet - Printer / copier / scanner    1\n",
       "Hewlett-Packard Desktjet 6988DT Refurbished Printer                                    1\n",
       "Zebra ZM400 Thermal Label Printer                                                      1\n",
       "Name: Product ID, dtype: int64"
      ]
     },
     "execution_count": 154,
     "metadata": {},
     "output_type": "execute_result"
    }
   ],
   "source": [
    "import pandas as pd\n",
    "import matplotlib.pyplot as plt\n",
    "\n",
    "# dataframe \"product_info\"\n",
    "\n",
    "# Calculate the count of 'Product ID' across 'Product Name'\n",
    "product_id_counts = product_info.groupby('Product Name')['Product ID'].nunique()\n",
    "\n",
    "# Sort the counts in descending order\n",
    "product_id_counts = product_id_counts.sort_values(ascending=False)\n",
    "product_id_counts\n"
   ]
  },
  {
   "attachments": {},
   "cell_type": "markdown",
   "id": "0a11b5e3",
   "metadata": {},
   "source": [
    "### Connect product_info and customer_transaction_info and customers_info"
   ]
  },
  {
   "cell_type": "code",
   "execution_count": 157,
   "id": "9c0477cc",
   "metadata": {},
   "outputs": [
    {
     "name": "stdout",
     "output_type": "stream",
     "text": [
      "Index(['Product ID', 'Category', 'Sub-Category', 'Product Name'], dtype='object')\n",
      "Index(['Order ID', 'Order Date', 'Ship Date', 'Ship Mode', 'Customer ID',\n",
      "       'Product ID', 'Sales', 'Quantity', 'Discount', 'Profit',\n",
      "       'Shipping Time'],\n",
      "      dtype='object')\n",
      "Index(['Customer ID', 'Customer Name', 'Segment', 'Country', 'City', 'State',\n",
      "       'Postal Code', 'Region'],\n",
      "      dtype='object')\n"
     ]
    }
   ],
   "source": [
    "print(product_info.columns)\n",
    "print(customer_transaction_info.columns)\n",
    "print(customers_info.columns)"
   ]
  },
  {
   "attachments": {},
   "cell_type": "markdown",
   "id": "2df6cdad",
   "metadata": {},
   "source": [
    "#####  Left joint dataframes - product_info, customer_transaction_info by key Product ID and return all rows from customer_transaction_info and 'Category', 'Sub-Category', 'Product Name' from product_info and filter the column - 'Product Name' if it contains the word 'printers' or 'printer' or 'Printer' and  'Sub-Category' is in ''Machines.'"
   ]
  },
  {
   "cell_type": "code",
   "execution_count": 160,
   "id": "b8f8b4c5",
   "metadata": {},
   "outputs": [
    {
     "name": "stdout",
     "output_type": "stream",
     "text": [
      "(73, 14)\n"
     ]
    },
    {
     "data": {
      "text/html": [
       "<div>\n",
       "<style scoped>\n",
       "    .dataframe tbody tr th:only-of-type {\n",
       "        vertical-align: middle;\n",
       "    }\n",
       "\n",
       "    .dataframe tbody tr th {\n",
       "        vertical-align: top;\n",
       "    }\n",
       "\n",
       "    .dataframe thead th {\n",
       "        text-align: right;\n",
       "    }\n",
       "</style>\n",
       "<table border=\"1\" class=\"dataframe\">\n",
       "  <thead>\n",
       "    <tr style=\"text-align: right;\">\n",
       "      <th></th>\n",
       "      <th>Order ID</th>\n",
       "      <th>Order Date</th>\n",
       "      <th>Ship Date</th>\n",
       "      <th>Ship Mode</th>\n",
       "      <th>Customer ID</th>\n",
       "      <th>Product ID</th>\n",
       "      <th>Sales</th>\n",
       "      <th>Quantity</th>\n",
       "      <th>Discount</th>\n",
       "      <th>Profit</th>\n",
       "      <th>Shipping Time</th>\n",
       "      <th>Category</th>\n",
       "      <th>Sub-Category</th>\n",
       "      <th>Product Name</th>\n",
       "    </tr>\n",
       "  </thead>\n",
       "  <tbody>\n",
       "    <tr>\n",
       "      <th>165</th>\n",
       "      <td>CA-2014-139892</td>\n",
       "      <td>1970-01-01 00:23:30.130</td>\n",
       "      <td>1970-01-01 00:23:30.480</td>\n",
       "      <td>Standard Class</td>\n",
       "      <td>BM-11140</td>\n",
       "      <td>TEC-MA-10000822</td>\n",
       "      <td>8159.952</td>\n",
       "      <td>8</td>\n",
       "      <td>0.4</td>\n",
       "      <td>-1359.9920</td>\n",
       "      <td>0 days 00:00:00.350000</td>\n",
       "      <td>Technology</td>\n",
       "      <td>Machines</td>\n",
       "      <td>Lexmark MX611dhe Monochrome Laser Printer</td>\n",
       "    </tr>\n",
       "    <tr>\n",
       "      <th>223</th>\n",
       "      <td>CA-2015-169397</td>\n",
       "      <td>1970-01-01 00:24:10.920</td>\n",
       "      <td>1970-01-01 00:24:11.170</td>\n",
       "      <td>First Class</td>\n",
       "      <td>JB-15925</td>\n",
       "      <td>TEC-MA-10001148</td>\n",
       "      <td>479.988</td>\n",
       "      <td>4</td>\n",
       "      <td>0.7</td>\n",
       "      <td>-383.9904</td>\n",
       "      <td>0 days 00:00:00.250000</td>\n",
       "      <td>Technology</td>\n",
       "      <td>Machines</td>\n",
       "      <td>Okidata MB491 Multifunction Printer</td>\n",
       "    </tr>\n",
       "    <tr>\n",
       "      <th>262</th>\n",
       "      <td>US-2014-106992</td>\n",
       "      <td>1970-01-01 00:23:31.080</td>\n",
       "      <td>1970-01-01 00:23:31.260</td>\n",
       "      <td>Second Class</td>\n",
       "      <td>SB-20290</td>\n",
       "      <td>TEC-MA-10000822</td>\n",
       "      <td>3059.982</td>\n",
       "      <td>3</td>\n",
       "      <td>0.4</td>\n",
       "      <td>-509.9970</td>\n",
       "      <td>0 days 00:00:00.180000</td>\n",
       "      <td>Technology</td>\n",
       "      <td>Machines</td>\n",
       "      <td>Lexmark MX611dhe Monochrome Laser Printer</td>\n",
       "    </tr>\n",
       "    <tr>\n",
       "      <th>263</th>\n",
       "      <td>US-2014-106992</td>\n",
       "      <td>1970-01-01 00:23:31.080</td>\n",
       "      <td>1970-01-01 00:23:31.260</td>\n",
       "      <td>Second Class</td>\n",
       "      <td>SB-20290</td>\n",
       "      <td>TEC-MA-10003353</td>\n",
       "      <td>2519.958</td>\n",
       "      <td>7</td>\n",
       "      <td>0.4</td>\n",
       "      <td>-251.9958</td>\n",
       "      <td>0 days 00:00:00.180000</td>\n",
       "      <td>Technology</td>\n",
       "      <td>Machines</td>\n",
       "      <td>Xerox WorkCentre 6505DN Laser Multifunction Pr...</td>\n",
       "    </tr>\n",
       "    <tr>\n",
       "      <th>427</th>\n",
       "      <td>CA-2014-101476</td>\n",
       "      <td>1970-01-01 00:23:30.480</td>\n",
       "      <td>1970-01-01 00:23:30.570</td>\n",
       "      <td>First Class</td>\n",
       "      <td>SD-20485</td>\n",
       "      <td>TEC-MA-10000029</td>\n",
       "      <td>69.990</td>\n",
       "      <td>1</td>\n",
       "      <td>0.0</td>\n",
       "      <td>30.0957</td>\n",
       "      <td>0 days 00:00:00.090000</td>\n",
       "      <td>Technology</td>\n",
       "      <td>Machines</td>\n",
       "      <td>Epson WorkForce WF-2530 All-in-One Printer, Co...</td>\n",
       "    </tr>\n",
       "  </tbody>\n",
       "</table>\n",
       "</div>"
      ],
      "text/plain": [
       "           Order ID              Order Date               Ship Date  \\\n",
       "165  CA-2014-139892 1970-01-01 00:23:30.130 1970-01-01 00:23:30.480   \n",
       "223  CA-2015-169397 1970-01-01 00:24:10.920 1970-01-01 00:24:11.170   \n",
       "262  US-2014-106992 1970-01-01 00:23:31.080 1970-01-01 00:23:31.260   \n",
       "263  US-2014-106992 1970-01-01 00:23:31.080 1970-01-01 00:23:31.260   \n",
       "427  CA-2014-101476 1970-01-01 00:23:30.480 1970-01-01 00:23:30.570   \n",
       "\n",
       "          Ship Mode Customer ID       Product ID     Sales  Quantity  \\\n",
       "165  Standard Class    BM-11140  TEC-MA-10000822  8159.952         8   \n",
       "223     First Class    JB-15925  TEC-MA-10001148   479.988         4   \n",
       "262    Second Class    SB-20290  TEC-MA-10000822  3059.982         3   \n",
       "263    Second Class    SB-20290  TEC-MA-10003353  2519.958         7   \n",
       "427     First Class    SD-20485  TEC-MA-10000029    69.990         1   \n",
       "\n",
       "     Discount     Profit          Shipping Time    Category Sub-Category  \\\n",
       "165       0.4 -1359.9920 0 days 00:00:00.350000  Technology     Machines   \n",
       "223       0.7  -383.9904 0 days 00:00:00.250000  Technology     Machines   \n",
       "262       0.4  -509.9970 0 days 00:00:00.180000  Technology     Machines   \n",
       "263       0.4  -251.9958 0 days 00:00:00.180000  Technology     Machines   \n",
       "427       0.0    30.0957 0 days 00:00:00.090000  Technology     Machines   \n",
       "\n",
       "                                          Product Name  \n",
       "165          Lexmark MX611dhe Monochrome Laser Printer  \n",
       "223                Okidata MB491 Multifunction Printer  \n",
       "262          Lexmark MX611dhe Monochrome Laser Printer  \n",
       "263  Xerox WorkCentre 6505DN Laser Multifunction Pr...  \n",
       "427  Epson WorkForce WF-2530 All-in-One Printer, Co...  "
      ]
     },
     "execution_count": 160,
     "metadata": {},
     "output_type": "execute_result"
    }
   ],
   "source": [
    "import pandas as pd\n",
    "\n",
    "#  \"product_info\" and \"customer_transaction_info\"\n",
    "\n",
    "# Perform the left join\n",
    "merged_df = customer_transaction_info.merge(product_info[['Product ID', 'Category', 'Sub-Category', 'Product Name']], on='Product ID', how='left')\n",
    "\n",
    "# Apply filters on 'Product Name' and 'Sub-Category'\n",
    "filtered_df = merged_df[(merged_df['Product Name'].str.contains('printers|printer|Printer')) & (merged_df['Sub-Category'] == 'Machines')]\n",
    "\n",
    "# Print the filtered dataframe\n",
    "print(filtered_df.shape)\n",
    "filtered_df.head()\n",
    "\n",
    "# Segment\tCountry\tCity\tState\tPostal Code\tRegion\n"
   ]
  },
  {
   "attachments": {},
   "cell_type": "markdown",
   "id": "1d9e88e2",
   "metadata": {},
   "source": [
    "#### Now left join two dataframes -  filtered_df and customers_info by \"Customer ID\" and return all the columns from left table -  \n",
    "#### filtered_df and column names - 'Segment', 'Country', 'City', 'State', 'Postal Code', 'Region'  from dataframe - customers_info"
   ]
  },
  {
   "cell_type": "code",
   "execution_count": 171,
   "id": "13609b36",
   "metadata": {},
   "outputs": [
    {
     "name": "stdout",
     "output_type": "stream",
     "text": [
      "(528, 20)\n"
     ]
    },
    {
     "data": {
      "text/html": [
       "<div>\n",
       "<style scoped>\n",
       "    .dataframe tbody tr th:only-of-type {\n",
       "        vertical-align: middle;\n",
       "    }\n",
       "\n",
       "    .dataframe tbody tr th {\n",
       "        vertical-align: top;\n",
       "    }\n",
       "\n",
       "    .dataframe thead th {\n",
       "        text-align: right;\n",
       "    }\n",
       "</style>\n",
       "<table border=\"1\" class=\"dataframe\">\n",
       "  <thead>\n",
       "    <tr style=\"text-align: right;\">\n",
       "      <th></th>\n",
       "      <th>Order ID</th>\n",
       "      <th>Order Date</th>\n",
       "      <th>Ship Date</th>\n",
       "      <th>Ship Mode</th>\n",
       "      <th>Customer ID</th>\n",
       "      <th>Product ID</th>\n",
       "      <th>Sales</th>\n",
       "      <th>Quantity</th>\n",
       "      <th>Discount</th>\n",
       "      <th>Profit</th>\n",
       "      <th>Shipping Time</th>\n",
       "      <th>Category</th>\n",
       "      <th>Sub-Category</th>\n",
       "      <th>Product Name</th>\n",
       "      <th>Segment</th>\n",
       "      <th>Country</th>\n",
       "      <th>City</th>\n",
       "      <th>State</th>\n",
       "      <th>Postal Code</th>\n",
       "      <th>Region</th>\n",
       "    </tr>\n",
       "  </thead>\n",
       "  <tbody>\n",
       "    <tr>\n",
       "      <th>0</th>\n",
       "      <td>CA-2014-139892</td>\n",
       "      <td>1970-01-01 00:23:30.130</td>\n",
       "      <td>1970-01-01 00:23:30.480</td>\n",
       "      <td>Standard Class</td>\n",
       "      <td>BM-11140</td>\n",
       "      <td>TEC-MA-10000822</td>\n",
       "      <td>8159.952</td>\n",
       "      <td>8</td>\n",
       "      <td>0.4</td>\n",
       "      <td>-1359.9920</td>\n",
       "      <td>0 days 00:00:00.350000</td>\n",
       "      <td>Technology</td>\n",
       "      <td>Machines</td>\n",
       "      <td>Lexmark MX611dhe Monochrome Laser Printer</td>\n",
       "      <td>Consumer</td>\n",
       "      <td>United States</td>\n",
       "      <td>San Antonio</td>\n",
       "      <td>Texas</td>\n",
       "      <td>78207</td>\n",
       "      <td>Central</td>\n",
       "    </tr>\n",
       "    <tr>\n",
       "      <th>1</th>\n",
       "      <td>CA-2014-139892</td>\n",
       "      <td>1970-01-01 00:23:30.130</td>\n",
       "      <td>1970-01-01 00:23:30.480</td>\n",
       "      <td>Standard Class</td>\n",
       "      <td>BM-11140</td>\n",
       "      <td>TEC-MA-10000822</td>\n",
       "      <td>8159.952</td>\n",
       "      <td>8</td>\n",
       "      <td>0.4</td>\n",
       "      <td>-1359.9920</td>\n",
       "      <td>0 days 00:00:00.350000</td>\n",
       "      <td>Technology</td>\n",
       "      <td>Machines</td>\n",
       "      <td>Lexmark MX611dhe Monochrome Laser Printer</td>\n",
       "      <td>Consumer</td>\n",
       "      <td>United States</td>\n",
       "      <td>New York City</td>\n",
       "      <td>New York</td>\n",
       "      <td>10024</td>\n",
       "      <td>East</td>\n",
       "    </tr>\n",
       "    <tr>\n",
       "      <th>2</th>\n",
       "      <td>CA-2014-139892</td>\n",
       "      <td>1970-01-01 00:23:30.130</td>\n",
       "      <td>1970-01-01 00:23:30.480</td>\n",
       "      <td>Standard Class</td>\n",
       "      <td>BM-11140</td>\n",
       "      <td>TEC-MA-10000822</td>\n",
       "      <td>8159.952</td>\n",
       "      <td>8</td>\n",
       "      <td>0.4</td>\n",
       "      <td>-1359.9920</td>\n",
       "      <td>0 days 00:00:00.350000</td>\n",
       "      <td>Technology</td>\n",
       "      <td>Machines</td>\n",
       "      <td>Lexmark MX611dhe Monochrome Laser Printer</td>\n",
       "      <td>Consumer</td>\n",
       "      <td>United States</td>\n",
       "      <td>Santa Barbara</td>\n",
       "      <td>California</td>\n",
       "      <td>93101</td>\n",
       "      <td>West</td>\n",
       "    </tr>\n",
       "    <tr>\n",
       "      <th>3</th>\n",
       "      <td>CA-2014-139892</td>\n",
       "      <td>1970-01-01 00:23:30.130</td>\n",
       "      <td>1970-01-01 00:23:30.480</td>\n",
       "      <td>Standard Class</td>\n",
       "      <td>BM-11140</td>\n",
       "      <td>TEC-MA-10000822</td>\n",
       "      <td>8159.952</td>\n",
       "      <td>8</td>\n",
       "      <td>0.4</td>\n",
       "      <td>-1359.9920</td>\n",
       "      <td>0 days 00:00:00.350000</td>\n",
       "      <td>Technology</td>\n",
       "      <td>Machines</td>\n",
       "      <td>Lexmark MX611dhe Monochrome Laser Printer</td>\n",
       "      <td>Consumer</td>\n",
       "      <td>United States</td>\n",
       "      <td>Des Moines</td>\n",
       "      <td>Washington</td>\n",
       "      <td>98198</td>\n",
       "      <td>West</td>\n",
       "    </tr>\n",
       "    <tr>\n",
       "      <th>4</th>\n",
       "      <td>CA-2015-169397</td>\n",
       "      <td>1970-01-01 00:24:10.920</td>\n",
       "      <td>1970-01-01 00:24:11.170</td>\n",
       "      <td>First Class</td>\n",
       "      <td>JB-15925</td>\n",
       "      <td>TEC-MA-10001148</td>\n",
       "      <td>479.988</td>\n",
       "      <td>4</td>\n",
       "      <td>0.7</td>\n",
       "      <td>-383.9904</td>\n",
       "      <td>0 days 00:00:00.250000</td>\n",
       "      <td>Technology</td>\n",
       "      <td>Machines</td>\n",
       "      <td>Okidata MB491 Multifunction Printer</td>\n",
       "      <td>Consumer</td>\n",
       "      <td>United States</td>\n",
       "      <td>Dublin</td>\n",
       "      <td>Ohio</td>\n",
       "      <td>43017</td>\n",
       "      <td>East</td>\n",
       "    </tr>\n",
       "  </tbody>\n",
       "</table>\n",
       "</div>"
      ],
      "text/plain": [
       "         Order ID              Order Date               Ship Date  \\\n",
       "0  CA-2014-139892 1970-01-01 00:23:30.130 1970-01-01 00:23:30.480   \n",
       "1  CA-2014-139892 1970-01-01 00:23:30.130 1970-01-01 00:23:30.480   \n",
       "2  CA-2014-139892 1970-01-01 00:23:30.130 1970-01-01 00:23:30.480   \n",
       "3  CA-2014-139892 1970-01-01 00:23:30.130 1970-01-01 00:23:30.480   \n",
       "4  CA-2015-169397 1970-01-01 00:24:10.920 1970-01-01 00:24:11.170   \n",
       "\n",
       "        Ship Mode Customer ID       Product ID     Sales  Quantity  Discount  \\\n",
       "0  Standard Class    BM-11140  TEC-MA-10000822  8159.952         8       0.4   \n",
       "1  Standard Class    BM-11140  TEC-MA-10000822  8159.952         8       0.4   \n",
       "2  Standard Class    BM-11140  TEC-MA-10000822  8159.952         8       0.4   \n",
       "3  Standard Class    BM-11140  TEC-MA-10000822  8159.952         8       0.4   \n",
       "4     First Class    JB-15925  TEC-MA-10001148   479.988         4       0.7   \n",
       "\n",
       "      Profit          Shipping Time    Category Sub-Category  \\\n",
       "0 -1359.9920 0 days 00:00:00.350000  Technology     Machines   \n",
       "1 -1359.9920 0 days 00:00:00.350000  Technology     Machines   \n",
       "2 -1359.9920 0 days 00:00:00.350000  Technology     Machines   \n",
       "3 -1359.9920 0 days 00:00:00.350000  Technology     Machines   \n",
       "4  -383.9904 0 days 00:00:00.250000  Technology     Machines   \n",
       "\n",
       "                                Product Name   Segment        Country  \\\n",
       "0  Lexmark MX611dhe Monochrome Laser Printer  Consumer  United States   \n",
       "1  Lexmark MX611dhe Monochrome Laser Printer  Consumer  United States   \n",
       "2  Lexmark MX611dhe Monochrome Laser Printer  Consumer  United States   \n",
       "3  Lexmark MX611dhe Monochrome Laser Printer  Consumer  United States   \n",
       "4        Okidata MB491 Multifunction Printer  Consumer  United States   \n",
       "\n",
       "            City       State  Postal Code   Region  \n",
       "0    San Antonio       Texas        78207  Central  \n",
       "1  New York City    New York        10024     East  \n",
       "2  Santa Barbara  California        93101     West  \n",
       "3     Des Moines  Washington        98198     West  \n",
       "4         Dublin        Ohio        43017     East  "
      ]
     },
     "execution_count": 171,
     "metadata": {},
     "output_type": "execute_result"
    }
   ],
   "source": [
    "import pandas as pd\n",
    "\n",
    "# Perform left join\n",
    "merged_df = filtered_df.merge(customers_info[['Customer ID', 'Segment', 'Country', 'City', 'State', 'Postal Code', 'Region']],\n",
    "                              on='Customer ID', how='left')\n",
    "\n",
    "# Print the resulting merged dataframe\n",
    "print(merged_df.shape)\n",
    "merged_df.head()\n"
   ]
  },
  {
   "cell_type": "code",
   "execution_count": 172,
   "id": "d8c80987",
   "metadata": {},
   "outputs": [],
   "source": [
    "merged_df.to_csv('merged_df.csv')"
   ]
  },
  {
   "attachments": {},
   "cell_type": "markdown",
   "id": "a0e847a1",
   "metadata": {},
   "source": [
    "### Number of products purchased by each customers and also see the purchase percentage for each customers.\n",
    "### Calculate the count of \"Product ID\" for each \"Customer ID\" under column count_product_id and percentage of count of \"Product ID\"\n"
   ]
  },
  {
   "cell_type": "code",
   "execution_count": 177,
   "id": "542d5dcf",
   "metadata": {},
   "outputs": [
    {
     "data": {
      "text/html": [
       "<div>\n",
       "<style scoped>\n",
       "    .dataframe tbody tr th:only-of-type {\n",
       "        vertical-align: middle;\n",
       "    }\n",
       "\n",
       "    .dataframe tbody tr th {\n",
       "        vertical-align: top;\n",
       "    }\n",
       "\n",
       "    .dataframe thead th {\n",
       "        text-align: right;\n",
       "    }\n",
       "</style>\n",
       "<table border=\"1\" class=\"dataframe\">\n",
       "  <thead>\n",
       "    <tr style=\"text-align: right;\">\n",
       "      <th></th>\n",
       "      <th>count_product_id</th>\n",
       "      <th>percentage</th>\n",
       "    </tr>\n",
       "    <tr>\n",
       "      <th>Customer ID</th>\n",
       "      <th></th>\n",
       "      <th></th>\n",
       "    </tr>\n",
       "  </thead>\n",
       "  <tbody>\n",
       "    <tr>\n",
       "      <th>AG-10525</th>\n",
       "      <td>4</td>\n",
       "      <td>0.215285</td>\n",
       "    </tr>\n",
       "    <tr>\n",
       "      <th>AP-10915</th>\n",
       "      <td>9</td>\n",
       "      <td>0.484392</td>\n",
       "    </tr>\n",
       "    <tr>\n",
       "      <th>AS-10045</th>\n",
       "      <td>7</td>\n",
       "      <td>0.376749</td>\n",
       "    </tr>\n",
       "    <tr>\n",
       "      <th>BF-11020</th>\n",
       "      <td>8</td>\n",
       "      <td>0.430571</td>\n",
       "    </tr>\n",
       "    <tr>\n",
       "      <th>BM-11140</th>\n",
       "      <td>4</td>\n",
       "      <td>0.215285</td>\n",
       "    </tr>\n",
       "    <tr>\n",
       "      <th>...</th>\n",
       "      <td>...</td>\n",
       "      <td>...</td>\n",
       "    </tr>\n",
       "    <tr>\n",
       "      <th>SZ-20035</th>\n",
       "      <td>11</td>\n",
       "      <td>0.592034</td>\n",
       "    </tr>\n",
       "    <tr>\n",
       "      <th>TB-21400</th>\n",
       "      <td>7</td>\n",
       "      <td>0.376749</td>\n",
       "    </tr>\n",
       "    <tr>\n",
       "      <th>TS-21370</th>\n",
       "      <td>5</td>\n",
       "      <td>0.269107</td>\n",
       "    </tr>\n",
       "    <tr>\n",
       "      <th>TT-21070</th>\n",
       "      <td>7</td>\n",
       "      <td>0.376749</td>\n",
       "    </tr>\n",
       "    <tr>\n",
       "      <th>WB-21850</th>\n",
       "      <td>11</td>\n",
       "      <td>0.592034</td>\n",
       "    </tr>\n",
       "  </tbody>\n",
       "</table>\n",
       "<p>69 rows × 2 columns</p>\n",
       "</div>"
      ],
      "text/plain": [
       "             count_product_id  percentage\n",
       "Customer ID                              \n",
       "AG-10525                    4    0.215285\n",
       "AP-10915                    9    0.484392\n",
       "AS-10045                    7    0.376749\n",
       "BF-11020                    8    0.430571\n",
       "BM-11140                    4    0.215285\n",
       "...                       ...         ...\n",
       "SZ-20035                   11    0.592034\n",
       "TB-21400                    7    0.376749\n",
       "TS-21370                    5    0.269107\n",
       "TT-21070                    7    0.376749\n",
       "WB-21850                   11    0.592034\n",
       "\n",
       "[69 rows x 2 columns]"
      ]
     },
     "execution_count": 177,
     "metadata": {},
     "output_type": "execute_result"
    }
   ],
   "source": [
    "import pandas as pd\n",
    "\n",
    "# Calculate the sum of Quantity\n",
    "quantity_sum = merged_df['Quantity'].sum()\n",
    "\n",
    "# Create a pivot table with count and percentage\n",
    "\n",
    "\n",
    "pivot_df = pd.pivot_table(merged_df, \n",
    "                          values='Product ID', \n",
    "                          index='Customer ID', \n",
    "                          aggfunc={'Product ID': 'count'})\n",
    "\n",
    "# Rename the count column\n",
    "pivot_df = pivot_df.rename(columns={'Product ID': 'count_product_id'})\n",
    "\n",
    "# Calculate percentage\n",
    "pivot_df['percentage'] = (pivot_df['count_product_id'] / quantity_sum)*100\n",
    "\n",
    "# Print the resulting pivot table\n",
    "pivot_df\n"
   ]
  },
  {
   "attachments": {},
   "cell_type": "markdown",
   "id": "4a0d4867",
   "metadata": {},
   "source": [
    "### Plot line chart for quantity Vs discount for dataframe - merged_df in python"
   ]
  },
  {
   "cell_type": "code",
   "execution_count": 181,
   "id": "b316e500",
   "metadata": {},
   "outputs": [
    {
     "data": {
      "text/plain": [
       "(array([119.,   7., 172.,   0.,  47.,  42.,   0.,  45.,   0.,  96.]),\n",
       " array([0.  , 0.07, 0.14, 0.21, 0.28, 0.35, 0.42, 0.49, 0.56, 0.63, 0.7 ]),\n",
       " <BarContainer object of 10 artists>)"
      ]
     },
     "execution_count": 181,
     "metadata": {},
     "output_type": "execute_result"
    },
    {
     "data": {
      "text/plain": [
       "Text(0.5, 0, 'Discount')"
      ]
     },
     "execution_count": 181,
     "metadata": {},
     "output_type": "execute_result"
    },
    {
     "data": {
      "text/plain": [
       "Text(0, 0.5, 'Frequency')"
      ]
     },
     "execution_count": 181,
     "metadata": {},
     "output_type": "execute_result"
    },
    {
     "data": {
      "text/plain": [
       "Text(0.5, 1.0, 'Discount Histogram')"
      ]
     },
     "execution_count": 181,
     "metadata": {},
     "output_type": "execute_result"
    },
    {
     "data": {
      "image/png": "[encoded data removed]",
      "text/plain": [
       "<Figure size 432x288 with 1 Axes>"
      ]
     },
     "metadata": {
      "needs_background": "light"
     },
     "output_type": "display_data"
    }
   ],
   "source": [
    "import matplotlib.pyplot as plt\n",
    "\n",
    "# Create the histogram\n",
    "plt.hist(merged_df['Discount'], bins=10)\n",
    "plt.xlabel('Discount')\n",
    "plt.ylabel('Frequency')\n",
    "plt.title('Discount Histogram')\n",
    "plt.show()\n"
   ]
  },
  {
   "attachments": {},
   "cell_type": "markdown",
   "id": "8da7ca9a",
   "metadata": {},
   "source": [
    "####  From above graph, we see that maximum products were sold for discount 20% and when there was no discount, we see high sale."
   ]
  },
  {
   "cell_type": "code",
   "execution_count": 197,
   "id": "ef4b1d96",
   "metadata": {},
   "outputs": [
    {
     "name": "stdout",
     "output_type": "stream",
     "text": [
      "(528, 5)\n"
     ]
    },
    {
     "data": {
      "text/html": [
       "<div>\n",
       "<style scoped>\n",
       "    .dataframe tbody tr th:only-of-type {\n",
       "        vertical-align: middle;\n",
       "    }\n",
       "\n",
       "    .dataframe tbody tr th {\n",
       "        vertical-align: top;\n",
       "    }\n",
       "\n",
       "    .dataframe thead th {\n",
       "        text-align: right;\n",
       "    }\n",
       "</style>\n",
       "<table border=\"1\" class=\"dataframe\">\n",
       "  <thead>\n",
       "    <tr style=\"text-align: right;\">\n",
       "      <th></th>\n",
       "      <th>Customer ID</th>\n",
       "      <th>Product ID</th>\n",
       "      <th>Quantity</th>\n",
       "      <th>Discount</th>\n",
       "      <th>Product Name</th>\n",
       "    </tr>\n",
       "  </thead>\n",
       "  <tbody>\n",
       "    <tr>\n",
       "      <th>0</th>\n",
       "      <td>BM-11140</td>\n",
       "      <td>TEC-MA-10000822</td>\n",
       "      <td>8</td>\n",
       "      <td>0.4</td>\n",
       "      <td>Lexmark MX611dhe Monochrome Laser Printer</td>\n",
       "    </tr>\n",
       "    <tr>\n",
       "      <th>1</th>\n",
       "      <td>BM-11140</td>\n",
       "      <td>TEC-MA-10000822</td>\n",
       "      <td>8</td>\n",
       "      <td>0.4</td>\n",
       "      <td>Lexmark MX611dhe Monochrome Laser Printer</td>\n",
       "    </tr>\n",
       "    <tr>\n",
       "      <th>2</th>\n",
       "      <td>BM-11140</td>\n",
       "      <td>TEC-MA-10000822</td>\n",
       "      <td>8</td>\n",
       "      <td>0.4</td>\n",
       "      <td>Lexmark MX611dhe Monochrome Laser Printer</td>\n",
       "    </tr>\n",
       "    <tr>\n",
       "      <th>3</th>\n",
       "      <td>BM-11140</td>\n",
       "      <td>TEC-MA-10000822</td>\n",
       "      <td>8</td>\n",
       "      <td>0.4</td>\n",
       "      <td>Lexmark MX611dhe Monochrome Laser Printer</td>\n",
       "    </tr>\n",
       "    <tr>\n",
       "      <th>4</th>\n",
       "      <td>JB-15925</td>\n",
       "      <td>TEC-MA-10001148</td>\n",
       "      <td>4</td>\n",
       "      <td>0.7</td>\n",
       "      <td>Okidata MB491 Multifunction Printer</td>\n",
       "    </tr>\n",
       "  </tbody>\n",
       "</table>\n",
       "</div>"
      ],
      "text/plain": [
       "  Customer ID       Product ID  Quantity  Discount  \\\n",
       "0    BM-11140  TEC-MA-10000822         8       0.4   \n",
       "1    BM-11140  TEC-MA-10000822         8       0.4   \n",
       "2    BM-11140  TEC-MA-10000822         8       0.4   \n",
       "3    BM-11140  TEC-MA-10000822         8       0.4   \n",
       "4    JB-15925  TEC-MA-10001148         4       0.7   \n",
       "\n",
       "                                Product Name  \n",
       "0  Lexmark MX611dhe Monochrome Laser Printer  \n",
       "1  Lexmark MX611dhe Monochrome Laser Printer  \n",
       "2  Lexmark MX611dhe Monochrome Laser Printer  \n",
       "3  Lexmark MX611dhe Monochrome Laser Printer  \n",
       "4        Okidata MB491 Multifunction Printer  "
      ]
     },
     "execution_count": 197,
     "metadata": {},
     "output_type": "execute_result"
    }
   ],
   "source": [
    "filtered_df = merged_df[[\"Customer ID\", \"Product ID\", \"Quantity\", \"Discount\",\"Product Name\"]]\n",
    "print(filtered_df.shape)\n",
    "filtered_df.head()"
   ]
  },
  {
   "attachments": {},
   "cell_type": "markdown",
   "id": "338ceae4",
   "metadata": {},
   "source": [
    "### Creating the customer-item matrix"
   ]
  },
  {
   "cell_type": "code",
   "execution_count": 198,
   "id": "91bdfc20",
   "metadata": {},
   "outputs": [
    {
     "data": {
      "text/html": [
       "<div>\n",
       "<style scoped>\n",
       "    .dataframe tbody tr th:only-of-type {\n",
       "        vertical-align: middle;\n",
       "    }\n",
       "\n",
       "    .dataframe tbody tr th {\n",
       "        vertical-align: top;\n",
       "    }\n",
       "\n",
       "    .dataframe thead th {\n",
       "        text-align: right;\n",
       "    }\n",
       "</style>\n",
       "<table border=\"1\" class=\"dataframe\">\n",
       "  <thead>\n",
       "    <tr style=\"text-align: right;\">\n",
       "      <th>Product ID</th>\n",
       "      <th>TEC-MA-10000010</th>\n",
       "      <th>TEC-MA-10000029</th>\n",
       "      <th>TEC-MA-10000045</th>\n",
       "      <th>TEC-MA-10000112</th>\n",
       "      <th>TEC-MA-10000418</th>\n",
       "      <th>TEC-MA-10000488</th>\n",
       "      <th>TEC-MA-10000597</th>\n",
       "      <th>TEC-MA-10000822</th>\n",
       "      <th>TEC-MA-10000904</th>\n",
       "      <th>TEC-MA-10000984</th>\n",
       "      <th>...</th>\n",
       "      <th>TEC-MA-10003626</th>\n",
       "      <th>TEC-MA-10003673</th>\n",
       "      <th>TEC-MA-10003674</th>\n",
       "      <th>TEC-MA-10004002</th>\n",
       "      <th>TEC-MA-10004125</th>\n",
       "      <th>TEC-MA-10004241</th>\n",
       "      <th>TEC-MA-10004255</th>\n",
       "      <th>TEC-MA-10004458</th>\n",
       "      <th>TEC-MA-10004552</th>\n",
       "      <th>TEC-MA-10004626</th>\n",
       "    </tr>\n",
       "    <tr>\n",
       "      <th>Customer ID</th>\n",
       "      <th></th>\n",
       "      <th></th>\n",
       "      <th></th>\n",
       "      <th></th>\n",
       "      <th></th>\n",
       "      <th></th>\n",
       "      <th></th>\n",
       "      <th></th>\n",
       "      <th></th>\n",
       "      <th></th>\n",
       "      <th></th>\n",
       "      <th></th>\n",
       "      <th></th>\n",
       "      <th></th>\n",
       "      <th></th>\n",
       "      <th></th>\n",
       "      <th></th>\n",
       "      <th></th>\n",
       "      <th></th>\n",
       "      <th></th>\n",
       "      <th></th>\n",
       "    </tr>\n",
       "  </thead>\n",
       "  <tbody>\n",
       "    <tr>\n",
       "      <th>AG-10525</th>\n",
       "      <td>NaN</td>\n",
       "      <td>NaN</td>\n",
       "      <td>NaN</td>\n",
       "      <td>NaN</td>\n",
       "      <td>NaN</td>\n",
       "      <td>NaN</td>\n",
       "      <td>NaN</td>\n",
       "      <td>NaN</td>\n",
       "      <td>NaN</td>\n",
       "      <td>NaN</td>\n",
       "      <td>...</td>\n",
       "      <td>NaN</td>\n",
       "      <td>NaN</td>\n",
       "      <td>NaN</td>\n",
       "      <td>NaN</td>\n",
       "      <td>NaN</td>\n",
       "      <td>NaN</td>\n",
       "      <td>NaN</td>\n",
       "      <td>NaN</td>\n",
       "      <td>NaN</td>\n",
       "      <td>NaN</td>\n",
       "    </tr>\n",
       "    <tr>\n",
       "      <th>AP-10915</th>\n",
       "      <td>NaN</td>\n",
       "      <td>NaN</td>\n",
       "      <td>NaN</td>\n",
       "      <td>NaN</td>\n",
       "      <td>NaN</td>\n",
       "      <td>NaN</td>\n",
       "      <td>NaN</td>\n",
       "      <td>NaN</td>\n",
       "      <td>NaN</td>\n",
       "      <td>NaN</td>\n",
       "      <td>...</td>\n",
       "      <td>NaN</td>\n",
       "      <td>NaN</td>\n",
       "      <td>NaN</td>\n",
       "      <td>NaN</td>\n",
       "      <td>NaN</td>\n",
       "      <td>18.0</td>\n",
       "      <td>NaN</td>\n",
       "      <td>NaN</td>\n",
       "      <td>NaN</td>\n",
       "      <td>NaN</td>\n",
       "    </tr>\n",
       "    <tr>\n",
       "      <th>AS-10045</th>\n",
       "      <td>NaN</td>\n",
       "      <td>NaN</td>\n",
       "      <td>NaN</td>\n",
       "      <td>NaN</td>\n",
       "      <td>NaN</td>\n",
       "      <td>21.0</td>\n",
       "      <td>NaN</td>\n",
       "      <td>NaN</td>\n",
       "      <td>NaN</td>\n",
       "      <td>NaN</td>\n",
       "      <td>...</td>\n",
       "      <td>NaN</td>\n",
       "      <td>NaN</td>\n",
       "      <td>NaN</td>\n",
       "      <td>NaN</td>\n",
       "      <td>NaN</td>\n",
       "      <td>NaN</td>\n",
       "      <td>NaN</td>\n",
       "      <td>NaN</td>\n",
       "      <td>NaN</td>\n",
       "      <td>NaN</td>\n",
       "    </tr>\n",
       "    <tr>\n",
       "      <th>BF-11020</th>\n",
       "      <td>NaN</td>\n",
       "      <td>NaN</td>\n",
       "      <td>NaN</td>\n",
       "      <td>NaN</td>\n",
       "      <td>NaN</td>\n",
       "      <td>NaN</td>\n",
       "      <td>NaN</td>\n",
       "      <td>NaN</td>\n",
       "      <td>NaN</td>\n",
       "      <td>NaN</td>\n",
       "      <td>...</td>\n",
       "      <td>NaN</td>\n",
       "      <td>NaN</td>\n",
       "      <td>NaN</td>\n",
       "      <td>NaN</td>\n",
       "      <td>NaN</td>\n",
       "      <td>NaN</td>\n",
       "      <td>NaN</td>\n",
       "      <td>NaN</td>\n",
       "      <td>32.0</td>\n",
       "      <td>NaN</td>\n",
       "    </tr>\n",
       "    <tr>\n",
       "      <th>BM-11140</th>\n",
       "      <td>NaN</td>\n",
       "      <td>NaN</td>\n",
       "      <td>NaN</td>\n",
       "      <td>NaN</td>\n",
       "      <td>NaN</td>\n",
       "      <td>NaN</td>\n",
       "      <td>NaN</td>\n",
       "      <td>32.0</td>\n",
       "      <td>NaN</td>\n",
       "      <td>NaN</td>\n",
       "      <td>...</td>\n",
       "      <td>NaN</td>\n",
       "      <td>NaN</td>\n",
       "      <td>NaN</td>\n",
       "      <td>NaN</td>\n",
       "      <td>NaN</td>\n",
       "      <td>NaN</td>\n",
       "      <td>NaN</td>\n",
       "      <td>NaN</td>\n",
       "      <td>NaN</td>\n",
       "      <td>NaN</td>\n",
       "    </tr>\n",
       "  </tbody>\n",
       "</table>\n",
       "<p>5 rows × 38 columns</p>\n",
       "</div>"
      ],
      "text/plain": [
       "Product ID   TEC-MA-10000010  TEC-MA-10000029  TEC-MA-10000045  \\\n",
       "Customer ID                                                      \n",
       "AG-10525                 NaN              NaN              NaN   \n",
       "AP-10915                 NaN              NaN              NaN   \n",
       "AS-10045                 NaN              NaN              NaN   \n",
       "BF-11020                 NaN              NaN              NaN   \n",
       "BM-11140                 NaN              NaN              NaN   \n",
       "\n",
       "Product ID   TEC-MA-10000112  TEC-MA-10000418  TEC-MA-10000488  \\\n",
       "Customer ID                                                      \n",
       "AG-10525                 NaN              NaN              NaN   \n",
       "AP-10915                 NaN              NaN              NaN   \n",
       "AS-10045                 NaN              NaN             21.0   \n",
       "BF-11020                 NaN              NaN              NaN   \n",
       "BM-11140                 NaN              NaN              NaN   \n",
       "\n",
       "Product ID   TEC-MA-10000597  TEC-MA-10000822  TEC-MA-10000904  \\\n",
       "Customer ID                                                      \n",
       "AG-10525                 NaN              NaN              NaN   \n",
       "AP-10915                 NaN              NaN              NaN   \n",
       "AS-10045                 NaN              NaN              NaN   \n",
       "BF-11020                 NaN              NaN              NaN   \n",
       "BM-11140                 NaN             32.0              NaN   \n",
       "\n",
       "Product ID   TEC-MA-10000984  ...  TEC-MA-10003626  TEC-MA-10003673  \\\n",
       "Customer ID                   ...                                     \n",
       "AG-10525                 NaN  ...              NaN              NaN   \n",
       "AP-10915                 NaN  ...              NaN              NaN   \n",
       "AS-10045                 NaN  ...              NaN              NaN   \n",
       "BF-11020                 NaN  ...              NaN              NaN   \n",
       "BM-11140                 NaN  ...              NaN              NaN   \n",
       "\n",
       "Product ID   TEC-MA-10003674  TEC-MA-10004002  TEC-MA-10004125  \\\n",
       "Customer ID                                                      \n",
       "AG-10525                 NaN              NaN              NaN   \n",
       "AP-10915                 NaN              NaN              NaN   \n",
       "AS-10045                 NaN              NaN              NaN   \n",
       "BF-11020                 NaN              NaN              NaN   \n",
       "BM-11140                 NaN              NaN              NaN   \n",
       "\n",
       "Product ID   TEC-MA-10004241  TEC-MA-10004255  TEC-MA-10004458  \\\n",
       "Customer ID                                                      \n",
       "AG-10525                 NaN              NaN              NaN   \n",
       "AP-10915                18.0              NaN              NaN   \n",
       "AS-10045                 NaN              NaN              NaN   \n",
       "BF-11020                 NaN              NaN              NaN   \n",
       "BM-11140                 NaN              NaN              NaN   \n",
       "\n",
       "Product ID   TEC-MA-10004552  TEC-MA-10004626  \n",
       "Customer ID                                    \n",
       "AG-10525                 NaN              NaN  \n",
       "AP-10915                 NaN              NaN  \n",
       "AS-10045                 NaN              NaN  \n",
       "BF-11020                32.0              NaN  \n",
       "BM-11140                 NaN              NaN  \n",
       "\n",
       "[5 rows x 38 columns]"
      ]
     },
     "execution_count": 198,
     "metadata": {},
     "output_type": "execute_result"
    }
   ],
   "source": [
    "customer_item_matrix = filtered_df.pivot_table(\n",
    "    index='Customer ID',\n",
    "    columns='Product ID',\n",
    "    values='Quantity',\n",
    "    aggfunc='sum'\n",
    ")\n",
    "customer_item_matrix.head()"
   ]
  },
  {
   "cell_type": "code",
   "execution_count": 199,
   "id": "896a5d3d",
   "metadata": {},
   "outputs": [
    {
     "name": "stdout",
     "output_type": "stream",
     "text": [
      "(69, 38)\n"
     ]
    }
   ],
   "source": [
    "print(customer_item_matrix.shape)\n",
    "customer_item_matrix = customer_item_matrix.applymap(lambda x: 1 if x > 0 else 0)"
   ]
  },
  {
   "attachments": {},
   "cell_type": "markdown",
   "id": "dba46be5",
   "metadata": {},
   "source": [
    "## Collaborative Filtering"
   ]
  },
  {
   "cell_type": "code",
   "execution_count": 200,
   "id": "5bafd767",
   "metadata": {},
   "outputs": [],
   "source": [
    "from sklearn.metrics.pairwise import cosine_similarity"
   ]
  },
  {
   "attachments": {},
   "cell_type": "markdown",
   "id": "aa8024ff",
   "metadata": {},
   "source": [
    "## User based collaborative filtering"
   ]
  },
  {
   "cell_type": "code",
   "execution_count": 201,
   "id": "83094311",
   "metadata": {},
   "outputs": [
    {
     "data": {
      "text/html": [
       "<div>\n",
       "<style scoped>\n",
       "    .dataframe tbody tr th:only-of-type {\n",
       "        vertical-align: middle;\n",
       "    }\n",
       "\n",
       "    .dataframe tbody tr th {\n",
       "        vertical-align: top;\n",
       "    }\n",
       "\n",
       "    .dataframe thead th {\n",
       "        text-align: right;\n",
       "    }\n",
       "</style>\n",
       "<table border=\"1\" class=\"dataframe\">\n",
       "  <thead>\n",
       "    <tr style=\"text-align: right;\">\n",
       "      <th></th>\n",
       "      <th>0</th>\n",
       "      <th>1</th>\n",
       "      <th>2</th>\n",
       "      <th>3</th>\n",
       "      <th>4</th>\n",
       "      <th>5</th>\n",
       "      <th>6</th>\n",
       "      <th>7</th>\n",
       "      <th>8</th>\n",
       "      <th>9</th>\n",
       "      <th>...</th>\n",
       "      <th>59</th>\n",
       "      <th>60</th>\n",
       "      <th>61</th>\n",
       "      <th>62</th>\n",
       "      <th>63</th>\n",
       "      <th>64</th>\n",
       "      <th>65</th>\n",
       "      <th>66</th>\n",
       "      <th>67</th>\n",
       "      <th>68</th>\n",
       "    </tr>\n",
       "  </thead>\n",
       "  <tbody>\n",
       "    <tr>\n",
       "      <th>0</th>\n",
       "      <td>1.0</td>\n",
       "      <td>0.0</td>\n",
       "      <td>0.0</td>\n",
       "      <td>0.0</td>\n",
       "      <td>0.0</td>\n",
       "      <td>0.0</td>\n",
       "      <td>0.0</td>\n",
       "      <td>0.0</td>\n",
       "      <td>0.0</td>\n",
       "      <td>0.0</td>\n",
       "      <td>...</td>\n",
       "      <td>0.0</td>\n",
       "      <td>0.0</td>\n",
       "      <td>0.0</td>\n",
       "      <td>0.0</td>\n",
       "      <td>0.0</td>\n",
       "      <td>0.0</td>\n",
       "      <td>0.0</td>\n",
       "      <td>0.0</td>\n",
       "      <td>0.0</td>\n",
       "      <td>0.0</td>\n",
       "    </tr>\n",
       "    <tr>\n",
       "      <th>1</th>\n",
       "      <td>0.0</td>\n",
       "      <td>1.0</td>\n",
       "      <td>0.0</td>\n",
       "      <td>0.0</td>\n",
       "      <td>0.0</td>\n",
       "      <td>0.0</td>\n",
       "      <td>0.0</td>\n",
       "      <td>0.0</td>\n",
       "      <td>0.0</td>\n",
       "      <td>0.0</td>\n",
       "      <td>...</td>\n",
       "      <td>0.0</td>\n",
       "      <td>0.0</td>\n",
       "      <td>0.0</td>\n",
       "      <td>0.0</td>\n",
       "      <td>0.0</td>\n",
       "      <td>1.0</td>\n",
       "      <td>0.0</td>\n",
       "      <td>0.0</td>\n",
       "      <td>0.0</td>\n",
       "      <td>0.0</td>\n",
       "    </tr>\n",
       "    <tr>\n",
       "      <th>2</th>\n",
       "      <td>0.0</td>\n",
       "      <td>0.0</td>\n",
       "      <td>1.0</td>\n",
       "      <td>0.0</td>\n",
       "      <td>0.0</td>\n",
       "      <td>0.0</td>\n",
       "      <td>0.0</td>\n",
       "      <td>0.0</td>\n",
       "      <td>0.0</td>\n",
       "      <td>1.0</td>\n",
       "      <td>...</td>\n",
       "      <td>0.0</td>\n",
       "      <td>0.0</td>\n",
       "      <td>0.0</td>\n",
       "      <td>0.0</td>\n",
       "      <td>0.0</td>\n",
       "      <td>0.0</td>\n",
       "      <td>0.0</td>\n",
       "      <td>0.0</td>\n",
       "      <td>0.0</td>\n",
       "      <td>0.0</td>\n",
       "    </tr>\n",
       "    <tr>\n",
       "      <th>3</th>\n",
       "      <td>0.0</td>\n",
       "      <td>0.0</td>\n",
       "      <td>0.0</td>\n",
       "      <td>1.0</td>\n",
       "      <td>0.0</td>\n",
       "      <td>0.0</td>\n",
       "      <td>0.0</td>\n",
       "      <td>0.0</td>\n",
       "      <td>0.0</td>\n",
       "      <td>0.0</td>\n",
       "      <td>...</td>\n",
       "      <td>0.0</td>\n",
       "      <td>0.0</td>\n",
       "      <td>0.0</td>\n",
       "      <td>0.0</td>\n",
       "      <td>0.0</td>\n",
       "      <td>0.0</td>\n",
       "      <td>0.0</td>\n",
       "      <td>0.0</td>\n",
       "      <td>0.0</td>\n",
       "      <td>0.0</td>\n",
       "    </tr>\n",
       "    <tr>\n",
       "      <th>4</th>\n",
       "      <td>0.0</td>\n",
       "      <td>0.0</td>\n",
       "      <td>0.0</td>\n",
       "      <td>0.0</td>\n",
       "      <td>1.0</td>\n",
       "      <td>0.0</td>\n",
       "      <td>0.0</td>\n",
       "      <td>0.0</td>\n",
       "      <td>1.0</td>\n",
       "      <td>0.0</td>\n",
       "      <td>...</td>\n",
       "      <td>0.0</td>\n",
       "      <td>0.0</td>\n",
       "      <td>1.0</td>\n",
       "      <td>0.0</td>\n",
       "      <td>0.0</td>\n",
       "      <td>0.0</td>\n",
       "      <td>0.0</td>\n",
       "      <td>0.0</td>\n",
       "      <td>0.0</td>\n",
       "      <td>0.0</td>\n",
       "    </tr>\n",
       "  </tbody>\n",
       "</table>\n",
       "<p>5 rows × 69 columns</p>\n",
       "</div>"
      ],
      "text/plain": [
       "    0    1    2    3    4    5    6    7    8    9   ...   59   60   61   62  \\\n",
       "0  1.0  0.0  0.0  0.0  0.0  0.0  0.0  0.0  0.0  0.0  ...  0.0  0.0  0.0  0.0   \n",
       "1  0.0  1.0  0.0  0.0  0.0  0.0  0.0  0.0  0.0  0.0  ...  0.0  0.0  0.0  0.0   \n",
       "2  0.0  0.0  1.0  0.0  0.0  0.0  0.0  0.0  0.0  1.0  ...  0.0  0.0  0.0  0.0   \n",
       "3  0.0  0.0  0.0  1.0  0.0  0.0  0.0  0.0  0.0  0.0  ...  0.0  0.0  0.0  0.0   \n",
       "4  0.0  0.0  0.0  0.0  1.0  0.0  0.0  0.0  1.0  0.0  ...  0.0  0.0  1.0  0.0   \n",
       "\n",
       "    63   64   65   66   67   68  \n",
       "0  0.0  0.0  0.0  0.0  0.0  0.0  \n",
       "1  0.0  1.0  0.0  0.0  0.0  0.0  \n",
       "2  0.0  0.0  0.0  0.0  0.0  0.0  \n",
       "3  0.0  0.0  0.0  0.0  0.0  0.0  \n",
       "4  0.0  0.0  0.0  0.0  0.0  0.0  \n",
       "\n",
       "[5 rows x 69 columns]"
      ]
     },
     "execution_count": 201,
     "metadata": {},
     "output_type": "execute_result"
    }
   ],
   "source": [
    "user_user_sim_matrix = pd.DataFrame(cosine_similarity(customer_item_matrix))\n",
    "user_user_sim_matrix.head()"
   ]
  },
  {
   "cell_type": "code",
   "execution_count": 202,
   "id": "5c33b286",
   "metadata": {},
   "outputs": [
    {
     "data": {
      "text/html": [
       "<div>\n",
       "<style scoped>\n",
       "    .dataframe tbody tr th:only-of-type {\n",
       "        vertical-align: middle;\n",
       "    }\n",
       "\n",
       "    .dataframe tbody tr th {\n",
       "        vertical-align: top;\n",
       "    }\n",
       "\n",
       "    .dataframe thead th {\n",
       "        text-align: right;\n",
       "    }\n",
       "</style>\n",
       "<table border=\"1\" class=\"dataframe\">\n",
       "  <thead>\n",
       "    <tr style=\"text-align: right;\">\n",
       "      <th>Customer ID</th>\n",
       "      <th>AG-10525</th>\n",
       "      <th>AP-10915</th>\n",
       "      <th>AS-10045</th>\n",
       "      <th>BF-11020</th>\n",
       "      <th>BM-11140</th>\n",
       "      <th>BO-11350</th>\n",
       "      <th>BP-11050</th>\n",
       "      <th>BS-11365</th>\n",
       "      <th>BW-11110</th>\n",
       "      <th>CC-12145</th>\n",
       "      <th>...</th>\n",
       "      <th>SE-20110</th>\n",
       "      <th>SM-20320</th>\n",
       "      <th>SR-20425</th>\n",
       "      <th>SR-20740</th>\n",
       "      <th>SU-20665</th>\n",
       "      <th>SZ-20035</th>\n",
       "      <th>TB-21400</th>\n",
       "      <th>TS-21370</th>\n",
       "      <th>TT-21070</th>\n",
       "      <th>WB-21850</th>\n",
       "    </tr>\n",
       "    <tr>\n",
       "      <th>Customer ID</th>\n",
       "      <th></th>\n",
       "      <th></th>\n",
       "      <th></th>\n",
       "      <th></th>\n",
       "      <th></th>\n",
       "      <th></th>\n",
       "      <th></th>\n",
       "      <th></th>\n",
       "      <th></th>\n",
       "      <th></th>\n",
       "      <th></th>\n",
       "      <th></th>\n",
       "      <th></th>\n",
       "      <th></th>\n",
       "      <th></th>\n",
       "      <th></th>\n",
       "      <th></th>\n",
       "      <th></th>\n",
       "      <th></th>\n",
       "      <th></th>\n",
       "      <th></th>\n",
       "    </tr>\n",
       "  </thead>\n",
       "  <tbody>\n",
       "    <tr>\n",
       "      <th>AG-10525</th>\n",
       "      <td>1.0</td>\n",
       "      <td>0.0</td>\n",
       "      <td>0.0</td>\n",
       "      <td>0.0</td>\n",
       "      <td>0.0</td>\n",
       "      <td>0.0</td>\n",
       "      <td>0.0</td>\n",
       "      <td>0.0</td>\n",
       "      <td>0.0</td>\n",
       "      <td>0.0</td>\n",
       "      <td>...</td>\n",
       "      <td>0.0</td>\n",
       "      <td>0.0</td>\n",
       "      <td>0.0</td>\n",
       "      <td>0.0</td>\n",
       "      <td>0.0</td>\n",
       "      <td>0.0</td>\n",
       "      <td>0.0</td>\n",
       "      <td>0.0</td>\n",
       "      <td>0.0</td>\n",
       "      <td>0.0</td>\n",
       "    </tr>\n",
       "    <tr>\n",
       "      <th>AP-10915</th>\n",
       "      <td>0.0</td>\n",
       "      <td>1.0</td>\n",
       "      <td>0.0</td>\n",
       "      <td>0.0</td>\n",
       "      <td>0.0</td>\n",
       "      <td>0.0</td>\n",
       "      <td>0.0</td>\n",
       "      <td>0.0</td>\n",
       "      <td>0.0</td>\n",
       "      <td>0.0</td>\n",
       "      <td>...</td>\n",
       "      <td>0.0</td>\n",
       "      <td>0.0</td>\n",
       "      <td>0.0</td>\n",
       "      <td>0.0</td>\n",
       "      <td>0.0</td>\n",
       "      <td>1.0</td>\n",
       "      <td>0.0</td>\n",
       "      <td>0.0</td>\n",
       "      <td>0.0</td>\n",
       "      <td>0.0</td>\n",
       "    </tr>\n",
       "    <tr>\n",
       "      <th>AS-10045</th>\n",
       "      <td>0.0</td>\n",
       "      <td>0.0</td>\n",
       "      <td>1.0</td>\n",
       "      <td>0.0</td>\n",
       "      <td>0.0</td>\n",
       "      <td>0.0</td>\n",
       "      <td>0.0</td>\n",
       "      <td>0.0</td>\n",
       "      <td>0.0</td>\n",
       "      <td>1.0</td>\n",
       "      <td>...</td>\n",
       "      <td>0.0</td>\n",
       "      <td>0.0</td>\n",
       "      <td>0.0</td>\n",
       "      <td>0.0</td>\n",
       "      <td>0.0</td>\n",
       "      <td>0.0</td>\n",
       "      <td>0.0</td>\n",
       "      <td>0.0</td>\n",
       "      <td>0.0</td>\n",
       "      <td>0.0</td>\n",
       "    </tr>\n",
       "    <tr>\n",
       "      <th>BF-11020</th>\n",
       "      <td>0.0</td>\n",
       "      <td>0.0</td>\n",
       "      <td>0.0</td>\n",
       "      <td>1.0</td>\n",
       "      <td>0.0</td>\n",
       "      <td>0.0</td>\n",
       "      <td>0.0</td>\n",
       "      <td>0.0</td>\n",
       "      <td>0.0</td>\n",
       "      <td>0.0</td>\n",
       "      <td>...</td>\n",
       "      <td>0.0</td>\n",
       "      <td>0.0</td>\n",
       "      <td>0.0</td>\n",
       "      <td>0.0</td>\n",
       "      <td>0.0</td>\n",
       "      <td>0.0</td>\n",
       "      <td>0.0</td>\n",
       "      <td>0.0</td>\n",
       "      <td>0.0</td>\n",
       "      <td>0.0</td>\n",
       "    </tr>\n",
       "    <tr>\n",
       "      <th>BM-11140</th>\n",
       "      <td>0.0</td>\n",
       "      <td>0.0</td>\n",
       "      <td>0.0</td>\n",
       "      <td>0.0</td>\n",
       "      <td>1.0</td>\n",
       "      <td>0.0</td>\n",
       "      <td>0.0</td>\n",
       "      <td>0.0</td>\n",
       "      <td>1.0</td>\n",
       "      <td>0.0</td>\n",
       "      <td>...</td>\n",
       "      <td>0.0</td>\n",
       "      <td>0.0</td>\n",
       "      <td>1.0</td>\n",
       "      <td>0.0</td>\n",
       "      <td>0.0</td>\n",
       "      <td>0.0</td>\n",
       "      <td>0.0</td>\n",
       "      <td>0.0</td>\n",
       "      <td>0.0</td>\n",
       "      <td>0.0</td>\n",
       "    </tr>\n",
       "  </tbody>\n",
       "</table>\n",
       "<p>5 rows × 69 columns</p>\n",
       "</div>"
      ],
      "text/plain": [
       "Customer ID  AG-10525  AP-10915  AS-10045  BF-11020  BM-11140  BO-11350  \\\n",
       "Customer ID                                                               \n",
       "AG-10525          1.0       0.0       0.0       0.0       0.0       0.0   \n",
       "AP-10915          0.0       1.0       0.0       0.0       0.0       0.0   \n",
       "AS-10045          0.0       0.0       1.0       0.0       0.0       0.0   \n",
       "BF-11020          0.0       0.0       0.0       1.0       0.0       0.0   \n",
       "BM-11140          0.0       0.0       0.0       0.0       1.0       0.0   \n",
       "\n",
       "Customer ID  BP-11050  BS-11365  BW-11110  CC-12145  ...  SE-20110  SM-20320  \\\n",
       "Customer ID                                          ...                       \n",
       "AG-10525          0.0       0.0       0.0       0.0  ...       0.0       0.0   \n",
       "AP-10915          0.0       0.0       0.0       0.0  ...       0.0       0.0   \n",
       "AS-10045          0.0       0.0       0.0       1.0  ...       0.0       0.0   \n",
       "BF-11020          0.0       0.0       0.0       0.0  ...       0.0       0.0   \n",
       "BM-11140          0.0       0.0       1.0       0.0  ...       0.0       0.0   \n",
       "\n",
       "Customer ID  SR-20425  SR-20740  SU-20665  SZ-20035  TB-21400  TS-21370  \\\n",
       "Customer ID                                                               \n",
       "AG-10525          0.0       0.0       0.0       0.0       0.0       0.0   \n",
       "AP-10915          0.0       0.0       0.0       1.0       0.0       0.0   \n",
       "AS-10045          0.0       0.0       0.0       0.0       0.0       0.0   \n",
       "BF-11020          0.0       0.0       0.0       0.0       0.0       0.0   \n",
       "BM-11140          1.0       0.0       0.0       0.0       0.0       0.0   \n",
       "\n",
       "Customer ID  TT-21070  WB-21850  \n",
       "Customer ID                      \n",
       "AG-10525          0.0       0.0  \n",
       "AP-10915          0.0       0.0  \n",
       "AS-10045          0.0       0.0  \n",
       "BF-11020          0.0       0.0  \n",
       "BM-11140          0.0       0.0  \n",
       "\n",
       "[5 rows x 69 columns]"
      ]
     },
     "execution_count": 202,
     "metadata": {},
     "output_type": "execute_result"
    }
   ],
   "source": [
    "#Renaming index and column names\n",
    "\n",
    "user_user_sim_matrix.columns = customer_item_matrix.index\n",
    "\n",
    "user_user_sim_matrix['Customer ID'] = customer_item_matrix.index\n",
    "user_user_sim_matrix = user_user_sim_matrix.set_index('Customer ID')\n",
    "user_user_sim_matrix.head()"
   ]
  },
  {
   "cell_type": "code",
   "execution_count": 203,
   "id": "e4669e5a",
   "metadata": {},
   "outputs": [
    {
     "data": {
      "text/plain": [
       "Customer ID\n",
       "AG-10525    1.00000\n",
       "SB-20290    0.57735\n",
       "LR-16915    0.00000\n",
       "LW-16825    0.00000\n",
       "MC-17425    0.00000\n",
       "MJ-17740    0.00000\n",
       "MS-17770    0.00000\n",
       "MW-18235    0.00000\n",
       "RL-19615    0.00000\n",
       "NF-18385    0.00000\n",
       "Name: AG-10525, dtype: float64"
      ]
     },
     "execution_count": 203,
     "metadata": {},
     "output_type": "execute_result"
    }
   ],
   "source": [
    "user_user_sim_matrix.loc['AG-10525'].sort_values(ascending=False).head(10)"
   ]
  },
  {
   "attachments": {},
   "cell_type": "markdown",
   "id": "3af5df33",
   "metadata": {},
   "source": [
    "## Making Recommendations"
   ]
  },
  {
   "cell_type": "code",
   "execution_count": 204,
   "id": "5e2fc321",
   "metadata": {},
   "outputs": [
    {
     "data": {
      "text/plain": [
       "Customer ID\n",
       "AG-10525    1.00000\n",
       "SB-20290    0.57735\n",
       "LR-16915    0.00000\n",
       "LW-16825    0.00000\n",
       "MC-17425    0.00000\n",
       "             ...   \n",
       "JB-15400    0.00000\n",
       "JB-15925    0.00000\n",
       "JH-15430    0.00000\n",
       "JK-15640    0.00000\n",
       "WB-21850    0.00000\n",
       "Name: AG-10525, Length: 69, dtype: float64"
      ]
     },
     "execution_count": 204,
     "metadata": {},
     "output_type": "execute_result"
    },
    {
     "name": "stdout",
     "output_type": "stream",
     "text": [
      "Items Bought by A: \n",
      "Product ID\n",
      "TEC-MA-10002210    1\n",
      "Name: AG-10525, dtype: int64\n"
     ]
    }
   ],
   "source": [
    "user_user_sim_matrix.loc['AG-10525'].sort_values(ascending=False)\n",
    "items_bought_by_A = customer_item_matrix.loc['AG-10525'][customer_item_matrix.loc['AG-10525']>0]\n",
    "print(\"Items Bought by A: \")\n",
    "print(items_bought_by_A)"
   ]
  },
  {
   "cell_type": "code",
   "execution_count": 205,
   "id": "42256d04",
   "metadata": {},
   "outputs": [
    {
     "name": "stdout",
     "output_type": "stream",
     "text": [
      "Items bought by B:\n",
      "Product ID\n",
      "TEC-MA-10000822    1\n",
      "Name: BM-11140, dtype: int64\n",
      "\n",
      "Items to Recommend to B \n",
      "{'TEC-MA-10002210'}\n"
     ]
    },
    {
     "data": {
      "text/html": [
       "<div>\n",
       "<style scoped>\n",
       "    .dataframe tbody tr th:only-of-type {\n",
       "        vertical-align: middle;\n",
       "    }\n",
       "\n",
       "    .dataframe tbody tr th {\n",
       "        vertical-align: top;\n",
       "    }\n",
       "\n",
       "    .dataframe thead th {\n",
       "        text-align: right;\n",
       "    }\n",
       "</style>\n",
       "<table border=\"1\" class=\"dataframe\">\n",
       "  <thead>\n",
       "    <tr style=\"text-align: right;\">\n",
       "      <th></th>\n",
       "      <th>Product Name</th>\n",
       "    </tr>\n",
       "    <tr>\n",
       "      <th>Product ID</th>\n",
       "      <th></th>\n",
       "    </tr>\n",
       "  </thead>\n",
       "  <tbody>\n",
       "    <tr>\n",
       "      <th>TEC-MA-10002210</th>\n",
       "      <td>Epson TM-T88V Direct Thermal Printer - Monochr...</td>\n",
       "    </tr>\n",
       "  </tbody>\n",
       "</table>\n",
       "</div>"
      ],
      "text/plain": [
       "                                                      Product Name\n",
       "Product ID                                                        \n",
       "TEC-MA-10002210  Epson TM-T88V Direct Thermal Printer - Monochr..."
      ]
     },
     "execution_count": 205,
     "metadata": {},
     "output_type": "execute_result"
    }
   ],
   "source": [
    "items_bought_by_B = customer_item_matrix.loc['BM-11140'][customer_item_matrix.loc['BM-11140']>0]\n",
    "print(\"Items bought by B:\")\n",
    "print(items_bought_by_B)\n",
    "\n",
    "print()\n",
    "\n",
    "items_to_recommend_to_B = set(items_bought_by_A.index) - set(items_bought_by_B.index)\n",
    "print(\"Items to Recommend to B \")\n",
    "print(items_to_recommend_to_B)\n",
    "filtered_df.loc[filtered_df['Product ID'].isin(items_to_recommend_to_B),['Product ID', 'Product Name']].drop_duplicates().set_index('Product ID')"
   ]
  },
  {
   "attachments": {},
   "cell_type": "markdown",
   "id": "b3bdd280",
   "metadata": {},
   "source": [
    "## Item-based collaborative filtering"
   ]
  },
  {
   "cell_type": "code",
   "execution_count": 206,
   "id": "ff63bf5d",
   "metadata": {},
   "outputs": [],
   "source": [
    "item_item_sim_matrix = pd.DataFrame(cosine_similarity(customer_item_matrix.T))\n",
    "item_item_sim_matrix.columns = customer_item_matrix.T.index\n",
    "\n",
    "item_item_sim_matrix['Product ID'] = customer_item_matrix.T.index\n",
    "item_item_sim_matrix = item_item_sim_matrix.set_index('Product ID')"
   ]
  },
  {
   "cell_type": "code",
   "execution_count": 207,
   "id": "ce9ad61b",
   "metadata": {},
   "outputs": [
    {
     "name": "stdout",
     "output_type": "stream",
     "text": [
      "Product ID       TEC-MA-10000010  TEC-MA-10000029  TEC-MA-10000045  \\\n",
      "Product ID                                                           \n",
      "TEC-MA-10000010              1.0              0.0              0.0   \n",
      "TEC-MA-10000029              0.0              1.0              0.0   \n",
      "TEC-MA-10000045              0.0              0.0              1.0   \n",
      "TEC-MA-10000112              0.0              0.0              0.0   \n",
      "TEC-MA-10000418              0.0              0.0              0.0   \n",
      "TEC-MA-10000488              0.0              0.0              0.0   \n",
      "TEC-MA-10000597              0.0              0.0              0.0   \n",
      "TEC-MA-10000822              0.0              0.0              0.0   \n",
      "TEC-MA-10000904              0.0              0.0              0.0   \n",
      "TEC-MA-10000984              0.0              0.0              0.0   \n",
      "TEC-MA-10001047              0.0              0.0              0.0   \n",
      "TEC-MA-10001127              0.0              0.0              0.0   \n",
      "TEC-MA-10001148              0.0              0.0              0.0   \n",
      "TEC-MA-10001695              0.0              0.0              0.0   \n",
      "TEC-MA-10001856              0.0              0.0              0.0   \n",
      "TEC-MA-10001972              0.0              0.0              0.0   \n",
      "TEC-MA-10002073              0.0              0.0              0.0   \n",
      "TEC-MA-10002109              0.0              0.0              0.0   \n",
      "TEC-MA-10002210              0.0              0.0              0.0   \n",
      "TEC-MA-10002694              0.0              0.0              0.0   \n",
      "TEC-MA-10002930              0.0              0.0              0.0   \n",
      "TEC-MA-10002937              0.0              0.0              0.0   \n",
      "TEC-MA-10003176              0.0              0.0              0.0   \n",
      "TEC-MA-10003230              0.0              0.0              0.0   \n",
      "TEC-MA-10003246              0.0              0.0              0.0   \n",
      "TEC-MA-10003337              0.0              0.0              0.0   \n",
      "TEC-MA-10003353              0.0              0.0              0.0   \n",
      "TEC-MA-10003356              0.0              0.0              0.0   \n",
      "TEC-MA-10003626              0.0              0.0              0.0   \n",
      "TEC-MA-10003673              0.0              0.0              0.0   \n",
      "TEC-MA-10003674              0.0              0.0              0.0   \n",
      "TEC-MA-10004002              0.0              0.0              0.0   \n",
      "TEC-MA-10004125              0.0              0.0              0.0   \n",
      "TEC-MA-10004241              0.0              0.0              0.0   \n",
      "TEC-MA-10004255              0.0              0.0              0.0   \n",
      "TEC-MA-10004458              0.0              0.0              0.0   \n",
      "TEC-MA-10004552              0.0              0.0              0.0   \n",
      "TEC-MA-10004626              0.0              0.0              0.0   \n",
      "\n",
      "Product ID       TEC-MA-10000112  TEC-MA-10000418  TEC-MA-10000488  \\\n",
      "Product ID                                                           \n",
      "TEC-MA-10000010              0.0          0.00000              0.0   \n",
      "TEC-MA-10000029              0.0          0.00000              0.0   \n",
      "TEC-MA-10000045              0.0          0.00000              0.0   \n",
      "TEC-MA-10000112              1.0          0.00000              0.0   \n",
      "TEC-MA-10000418              0.0          1.00000              0.0   \n",
      "TEC-MA-10000488              0.0          0.00000              1.0   \n",
      "TEC-MA-10000597              0.0          0.00000              0.0   \n",
      "TEC-MA-10000822              0.0          0.00000              0.0   \n",
      "TEC-MA-10000904              0.0          0.00000              0.0   \n",
      "TEC-MA-10000984              0.0          0.00000              0.0   \n",
      "TEC-MA-10001047              0.0          0.00000              0.0   \n",
      "TEC-MA-10001127              0.0          0.00000              0.0   \n",
      "TEC-MA-10001148              0.0          0.00000              0.0   \n",
      "TEC-MA-10001695              0.0          0.00000              0.0   \n",
      "TEC-MA-10001856              0.0          0.00000              0.0   \n",
      "TEC-MA-10001972              0.0          0.00000              0.0   \n",
      "TEC-MA-10002073              0.0          0.00000              0.0   \n",
      "TEC-MA-10002109              0.0          0.00000              0.0   \n",
      "TEC-MA-10002210              0.0          0.00000              0.0   \n",
      "TEC-MA-10002694              0.0          0.00000              0.0   \n",
      "TEC-MA-10002930              0.0          0.00000              0.0   \n",
      "TEC-MA-10002937              0.0          0.00000              0.0   \n",
      "TEC-MA-10003176              0.0          0.00000              0.0   \n",
      "TEC-MA-10003230              0.0          0.00000              0.0   \n",
      "TEC-MA-10003246              0.0          0.00000              0.0   \n",
      "TEC-MA-10003337              0.0          0.00000              0.0   \n",
      "TEC-MA-10003353              0.0          0.00000              0.0   \n",
      "TEC-MA-10003356              0.0          0.00000              0.0   \n",
      "TEC-MA-10003626              0.0          0.00000              0.0   \n",
      "TEC-MA-10003673              0.0          0.00000              0.0   \n",
      "TEC-MA-10003674              0.0          0.00000              0.0   \n",
      "TEC-MA-10004002              0.0          0.00000              0.0   \n",
      "TEC-MA-10004125              0.0          0.00000              0.0   \n",
      "TEC-MA-10004241              0.0          0.00000              0.0   \n",
      "TEC-MA-10004255              0.0          0.00000              0.0   \n",
      "TEC-MA-10004458              0.0          0.57735              0.0   \n",
      "TEC-MA-10004552              0.0          0.00000              0.0   \n",
      "TEC-MA-10004626              0.0          0.00000              0.0   \n",
      "\n",
      "Product ID       TEC-MA-10000597  TEC-MA-10000822  TEC-MA-10000904  \\\n",
      "Product ID                                                           \n",
      "TEC-MA-10000010              0.0         0.000000              0.0   \n",
      "TEC-MA-10000029              0.0         0.000000              0.0   \n",
      "TEC-MA-10000045              0.0         0.000000              0.0   \n",
      "TEC-MA-10000112              0.0         0.000000              0.0   \n",
      "TEC-MA-10000418              0.0         0.000000              0.0   \n",
      "TEC-MA-10000488              0.0         0.000000              0.0   \n",
      "TEC-MA-10000597              1.0         0.000000              0.0   \n",
      "TEC-MA-10000822              0.0         1.000000              0.0   \n",
      "TEC-MA-10000904              0.0         0.000000              1.0   \n",
      "TEC-MA-10000984              0.0         0.000000              0.0   \n",
      "TEC-MA-10001047              0.0         0.000000              0.0   \n",
      "TEC-MA-10001127              0.0         0.000000              0.0   \n",
      "TEC-MA-10001148              0.0         0.000000              0.0   \n",
      "TEC-MA-10001695              0.0         0.000000              0.0   \n",
      "TEC-MA-10001856              0.0         0.000000              0.0   \n",
      "TEC-MA-10001972              0.0         0.000000              0.0   \n",
      "TEC-MA-10002073              0.0         0.000000              0.0   \n",
      "TEC-MA-10002109              0.0         0.000000              0.0   \n",
      "TEC-MA-10002210              0.0         0.353553              0.0   \n",
      "TEC-MA-10002694              0.0         0.000000              0.0   \n",
      "TEC-MA-10002930              0.0         0.000000              0.0   \n",
      "TEC-MA-10002937              0.0         0.000000              0.0   \n",
      "TEC-MA-10003176              0.0         0.000000              0.0   \n",
      "TEC-MA-10003230              0.0         0.000000              0.0   \n",
      "TEC-MA-10003246              0.0         0.000000              0.0   \n",
      "TEC-MA-10003337              0.0         0.000000              0.0   \n",
      "TEC-MA-10003353              0.0         0.500000              0.0   \n",
      "TEC-MA-10003356              0.0         0.000000              0.0   \n",
      "TEC-MA-10003626              0.0         0.000000              0.0   \n",
      "TEC-MA-10003673              0.0         0.000000              0.0   \n",
      "TEC-MA-10003674              0.0         0.000000              0.0   \n",
      "TEC-MA-10004002              0.0         0.000000              0.0   \n",
      "TEC-MA-10004125              0.0         0.000000              0.0   \n",
      "TEC-MA-10004241              0.0         0.000000              0.0   \n",
      "TEC-MA-10004255              0.0         0.000000              0.0   \n",
      "TEC-MA-10004458              0.0         0.000000              0.0   \n",
      "TEC-MA-10004552              0.0         0.000000              0.0   \n",
      "TEC-MA-10004626              0.0         0.000000              0.0   \n",
      "\n",
      "Product ID       TEC-MA-10000984  ...  TEC-MA-10003626  TEC-MA-10003673  \\\n",
      "Product ID                        ...                                     \n",
      "TEC-MA-10000010              0.0  ...              0.0              0.0   \n",
      "TEC-MA-10000029              0.0  ...              0.0              0.0   \n",
      "TEC-MA-10000045              0.0  ...              0.0              0.0   \n",
      "TEC-MA-10000112              0.0  ...              0.0              0.0   \n",
      "TEC-MA-10000418              0.0  ...              0.0              0.0   \n",
      "TEC-MA-10000488              0.0  ...              0.0              0.0   \n",
      "TEC-MA-10000597              0.0  ...              0.0              0.0   \n",
      "TEC-MA-10000822              0.0  ...              0.0              0.0   \n",
      "TEC-MA-10000904              0.0  ...              0.0              0.0   \n",
      "TEC-MA-10000984              1.0  ...              0.0              0.0   \n",
      "TEC-MA-10001047              0.0  ...              0.0              0.0   \n",
      "TEC-MA-10001127              0.0  ...              0.0              0.0   \n",
      "TEC-MA-10001148              0.0  ...              0.0              0.0   \n",
      "TEC-MA-10001695              0.0  ...              0.0              0.0   \n",
      "TEC-MA-10001856              0.0  ...              0.0              0.0   \n",
      "TEC-MA-10001972              0.0  ...              0.0              0.0   \n",
      "TEC-MA-10002073              0.0  ...              0.0              0.0   \n",
      "TEC-MA-10002109              0.0  ...              0.0              0.0   \n",
      "TEC-MA-10002210              0.0  ...              0.0              0.0   \n",
      "TEC-MA-10002694              0.0  ...              0.0              0.0   \n",
      "TEC-MA-10002930              0.0  ...              0.0              0.0   \n",
      "TEC-MA-10002937              0.0  ...              0.0              0.0   \n",
      "TEC-MA-10003176              0.0  ...              0.0              0.0   \n",
      "TEC-MA-10003230              0.0  ...              0.0              0.0   \n",
      "TEC-MA-10003246              0.0  ...              0.0              0.0   \n",
      "TEC-MA-10003337              0.0  ...              0.0              0.0   \n",
      "TEC-MA-10003353              0.0  ...              0.0              0.0   \n",
      "TEC-MA-10003356              0.0  ...              0.0              0.0   \n",
      "TEC-MA-10003626              0.0  ...              1.0              0.0   \n",
      "TEC-MA-10003673              0.0  ...              0.0              1.0   \n",
      "TEC-MA-10003674              0.0  ...              0.0              0.0   \n",
      "TEC-MA-10004002              0.0  ...              0.0              0.0   \n",
      "TEC-MA-10004125              0.0  ...              0.0              0.0   \n",
      "TEC-MA-10004241              0.0  ...              0.0              0.0   \n",
      "TEC-MA-10004255              0.0  ...              0.0              0.0   \n",
      "TEC-MA-10004458              0.0  ...              0.0              0.0   \n",
      "TEC-MA-10004552              0.0  ...              0.0              0.0   \n",
      "TEC-MA-10004626              0.0  ...              0.0              0.0   \n",
      "\n",
      "Product ID       TEC-MA-10003674  TEC-MA-10004002  TEC-MA-10004125  \\\n",
      "Product ID                                                           \n",
      "TEC-MA-10000010              0.0         0.000000              0.0   \n",
      "TEC-MA-10000029              0.0         0.000000              0.0   \n",
      "TEC-MA-10000045              0.0         0.000000              0.0   \n",
      "TEC-MA-10000112              0.0         0.000000              0.0   \n",
      "TEC-MA-10000418              0.0         0.000000              0.0   \n",
      "TEC-MA-10000488              0.0         0.000000              0.0   \n",
      "TEC-MA-10000597              0.0         0.000000              0.0   \n",
      "TEC-MA-10000822              0.0         0.000000              0.0   \n",
      "TEC-MA-10000904              0.0         0.000000              0.0   \n",
      "TEC-MA-10000984              0.0         0.000000              0.0   \n",
      "TEC-MA-10001047              0.0         0.000000              0.0   \n",
      "TEC-MA-10001127              0.0         0.000000              0.0   \n",
      "TEC-MA-10001148              0.0         0.000000              0.0   \n",
      "TEC-MA-10001695              0.0         0.000000              0.0   \n",
      "TEC-MA-10001856              0.0         0.000000              0.0   \n",
      "TEC-MA-10001972              0.0         0.258199              0.0   \n",
      "TEC-MA-10002073              0.0         0.000000              0.0   \n",
      "TEC-MA-10002109              0.0         0.000000              0.0   \n",
      "TEC-MA-10002210              0.0         0.000000              0.0   \n",
      "TEC-MA-10002694              0.0         0.000000              0.0   \n",
      "TEC-MA-10002930              0.0         0.000000              0.0   \n",
      "TEC-MA-10002937              0.0         0.000000              0.0   \n",
      "TEC-MA-10003176              0.0         0.000000              0.0   \n",
      "TEC-MA-10003230              0.0         0.000000              0.0   \n",
      "TEC-MA-10003246              0.0         0.000000              0.0   \n",
      "TEC-MA-10003337              0.0         0.000000              0.0   \n",
      "TEC-MA-10003353              0.0         0.000000              0.0   \n",
      "TEC-MA-10003356              0.0         0.000000              0.0   \n",
      "TEC-MA-10003626              0.0         0.000000              0.0   \n",
      "TEC-MA-10003673              0.0         0.000000              0.0   \n",
      "TEC-MA-10003674              1.0         0.000000              0.0   \n",
      "TEC-MA-10004002              0.0         1.000000              0.0   \n",
      "TEC-MA-10004125              0.0         0.000000              1.0   \n",
      "TEC-MA-10004241              0.0         0.000000              0.0   \n",
      "TEC-MA-10004255              0.0         0.000000              0.0   \n",
      "TEC-MA-10004458              0.0         0.000000              0.0   \n",
      "TEC-MA-10004552              0.0         0.000000              0.0   \n",
      "TEC-MA-10004626              0.0         0.000000              0.0   \n",
      "\n",
      "Product ID       TEC-MA-10004241  TEC-MA-10004255  TEC-MA-10004458  \\\n",
      "Product ID                                                           \n",
      "TEC-MA-10000010              0.0              0.0          0.00000   \n",
      "TEC-MA-10000029              0.0              0.0          0.00000   \n",
      "TEC-MA-10000045              0.0              0.0          0.00000   \n",
      "TEC-MA-10000112              0.0              0.0          0.00000   \n",
      "TEC-MA-10000418              0.0              0.0          0.57735   \n",
      "TEC-MA-10000488              0.0              0.0          0.00000   \n",
      "TEC-MA-10000597              0.0              0.0          0.00000   \n",
      "TEC-MA-10000822              0.0              0.0          0.00000   \n",
      "TEC-MA-10000904              0.0              0.0          0.00000   \n",
      "TEC-MA-10000984              0.0              0.0          0.00000   \n",
      "TEC-MA-10001047              0.0              0.0          0.00000   \n",
      "TEC-MA-10001127              0.0              0.0          0.00000   \n",
      "TEC-MA-10001148              0.0              0.0          0.00000   \n",
      "TEC-MA-10001695              0.0              0.0          0.00000   \n",
      "TEC-MA-10001856              0.0              0.0          0.00000   \n",
      "TEC-MA-10001972              0.0              0.0          0.00000   \n",
      "TEC-MA-10002073              0.0              0.0          0.00000   \n",
      "TEC-MA-10002109              0.0              0.0          0.00000   \n",
      "TEC-MA-10002210              0.0              0.0          0.00000   \n",
      "TEC-MA-10002694              0.0              0.0          0.00000   \n",
      "TEC-MA-10002930              0.0              0.0          0.00000   \n",
      "TEC-MA-10002937              0.0              0.0          0.00000   \n",
      "TEC-MA-10003176              0.0              0.0          0.00000   \n",
      "TEC-MA-10003230              0.0              0.0          0.00000   \n",
      "TEC-MA-10003246              0.0              0.0          0.00000   \n",
      "TEC-MA-10003337              0.0              0.0          0.00000   \n",
      "TEC-MA-10003353              0.0              0.0          0.00000   \n",
      "TEC-MA-10003356              0.0              0.0          0.00000   \n",
      "TEC-MA-10003626              0.0              0.0          0.00000   \n",
      "TEC-MA-10003673              0.0              0.0          0.00000   \n",
      "TEC-MA-10003674              0.0              0.0          0.00000   \n",
      "TEC-MA-10004002              0.0              0.0          0.00000   \n",
      "TEC-MA-10004125              0.0              0.0          0.00000   \n",
      "TEC-MA-10004241              1.0              0.0          0.00000   \n",
      "TEC-MA-10004255              0.0              1.0          0.00000   \n",
      "TEC-MA-10004458              0.0              0.0          1.00000   \n",
      "TEC-MA-10004552              0.0              0.0          0.00000   \n",
      "TEC-MA-10004626              0.0              0.0          0.00000   \n",
      "\n",
      "Product ID       TEC-MA-10004552  TEC-MA-10004626  \n",
      "Product ID                                         \n",
      "TEC-MA-10000010              0.0              0.0  \n",
      "TEC-MA-10000029              0.0              0.0  \n",
      "TEC-MA-10000045              0.0              0.0  \n",
      "TEC-MA-10000112              0.0              0.0  \n",
      "TEC-MA-10000418              0.0              0.0  \n",
      "TEC-MA-10000488              0.0              0.0  \n",
      "TEC-MA-10000597              0.0              0.0  \n",
      "TEC-MA-10000822              0.0              0.0  \n",
      "TEC-MA-10000904              0.0              0.0  \n",
      "TEC-MA-10000984              0.0              0.0  \n",
      "TEC-MA-10001047              0.0              0.0  \n",
      "TEC-MA-10001127              0.0              0.0  \n",
      "TEC-MA-10001148              0.0              0.0  \n",
      "TEC-MA-10001695              0.0              0.0  \n",
      "TEC-MA-10001856              0.0              0.0  \n",
      "TEC-MA-10001972              0.0              0.0  \n",
      "TEC-MA-10002073              0.0              0.0  \n",
      "TEC-MA-10002109              0.0              0.0  \n",
      "TEC-MA-10002210              0.0              0.0  \n",
      "TEC-MA-10002694              0.0              0.0  \n",
      "TEC-MA-10002930              0.0              0.0  \n",
      "TEC-MA-10002937              0.0              0.0  \n",
      "TEC-MA-10003176              0.0              0.0  \n",
      "TEC-MA-10003230              0.0              0.0  \n",
      "TEC-MA-10003246              0.0              0.0  \n",
      "TEC-MA-10003337              0.0              0.0  \n",
      "TEC-MA-10003353              0.0              0.0  \n",
      "TEC-MA-10003356              0.0              0.0  \n",
      "TEC-MA-10003626              0.0              0.0  \n",
      "TEC-MA-10003673              0.0              0.0  \n",
      "TEC-MA-10003674              0.0              0.0  \n",
      "TEC-MA-10004002              0.0              0.0  \n",
      "TEC-MA-10004125              0.0              0.0  \n",
      "TEC-MA-10004241              0.0              0.0  \n",
      "TEC-MA-10004255              0.0              0.0  \n",
      "TEC-MA-10004458              0.0              0.0  \n",
      "TEC-MA-10004552              1.0              0.0  \n",
      "TEC-MA-10004626              0.0              1.0  \n",
      "\n",
      "[38 rows x 38 columns]\n"
     ]
    }
   ],
   "source": [
    "print(item_item_sim_matrix)"
   ]
  },
  {
   "attachments": {},
   "cell_type": "markdown",
   "id": "5d6a9929",
   "metadata": {},
   "source": [
    "## Making Recommendations"
   ]
  },
  {
   "cell_type": "code",
   "execution_count": 218,
   "id": "449c6d47",
   "metadata": {},
   "outputs": [
    {
     "name": "stdout",
     "output_type": "stream",
     "text": [
      "['TEC-MA-10000010', 'TEC-MA-10003626', 'TEC-MA-10002937', 'TEC-MA-10003176', 'TEC-MA-10003230', 'TEC-MA-10003246', 'TEC-MA-10003337', 'TEC-MA-10003353', 'TEC-MA-10003356', 'TEC-MA-10003673']\n",
      "\n",
      "                                                      Product Name\n",
      "Product ID                                                        \n",
      "TEC-MA-10000010  Hewlett-Packard Deskjet 3050a All-in-One Color...\n",
      "TEC-MA-10003626  Hewlett-Packard Deskjet 6540 Color Inkjet Printer\n",
      "TEC-MA-10002937  Canon Color ImageCLASS MF8580Cdw Wireless Lase...\n",
      "TEC-MA-10003176                               Okidata B400 Printer\n",
      "TEC-MA-10003230                              Okidata C610n Printer\n",
      "TEC-MA-10003246              Hewlett-Packard Deskjet D4360 Printer\n",
      "TEC-MA-10003337                               Okidata B401 Printer\n",
      "TEC-MA-10003353  Xerox WorkCentre 6505DN Laser Multifunction Pr...\n",
      "TEC-MA-10003356  Panasonic KX MC6040 Color Laser Multifunction ...\n",
      "TEC-MA-10003673  Hewlett-Packard Desktjet 6988DT Refurbished Pr...\n"
     ]
    }
   ],
   "source": [
    "top_10_similar_items = list(item_item_sim_matrix.loc['TEC-MA-10000010'].sort_values(ascending=False).iloc[:10].index)\n",
    "\n",
    "print(top_10_similar_items)\n",
    "print()\n",
    "print(filtered_df.loc[\n",
    "    filtered_df['Product ID'].isin(top_10_similar_items),\n",
    "    ['Product ID', 'Product Name']\n",
    "].drop_duplicates().set_index('Product ID').loc[top_10_similar_items])"
   ]
  },
  {
   "cell_type": "code",
   "execution_count": null,
   "id": "adccc3d6",
   "metadata": {},
   "outputs": [],
   "source": []
  }
 ],
 "metadata": {
  "kernelspec": {
   "display_name": "Python 3 (ipykernel)",
   "language": "python",
   "name": "python3"
  },
  "language_info": {
   "codemirror_mode": {
    "name": "ipython",
    "version": 3
   },
   "file_extension": ".py",
   "mimetype": "text/x-python",
   "name": "python",
   "nbconvert_exporter": "python",
   "pygments_lexer": "ipython3",
   "version": "3.9.0"
  }
 },
 "nbformat": 4,
 "nbformat_minor": 5
}
